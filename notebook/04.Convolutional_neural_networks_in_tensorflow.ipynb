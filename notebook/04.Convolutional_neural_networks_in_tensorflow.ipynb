{
 "cells": [
  {
   "cell_type": "markdown",
   "metadata": {},
   "source": [
    "# 03. Convolutional Neural Networks and Computer Vision with TensorFlow\n",
    "\n",
    "So far we've covered the basics of TensorFlow and built a handful of models to work across different problems.\n",
    "\n",
    "Now we're going to get specific and see how a special kind of neural network, [convolutional neural networks (CNNs)](https://en.wikipedia.org/wiki/Convolutional_neural_network) can be used for computer vision (detecting patterns in visual data).\n",
    "\n",
    "> 🔑 **Note:** In deep learning, many different kinds of model architectures can be used for different problems. For example, you could use a convolutional neural network for making predictions on image data and/or text data. However, in practice some architectures typically work better than others.\n",
    "\n",
    "For example, you might want to:\n",
    "* Classify whether a picture of food contains pizza 🍕 or steak 🥩 (we're going to do this)\n",
    "* Detect whether or not an object appears in an image (e.g. did a specific car pass through a security camera?)\n",
    "\n",
    "In this notebook, we're going to follow the TensorFlow modelling workflow we've been following so far whilst learning about how to build and use CNNs.\n",
    "\n",
    "## What we're going to cover\n",
    "\n",
    "Specifically, we're going to go through the follow with TensorFlow:\n",
    "\n",
    "- Getting a dataset to work with\n",
    "- Architecture of a convolutional neural network\n",
    "- A quick end-to-end example (what we're working towards)\n",
    "- Steps in modelling for binary image classification with CNNs\n",
    "  - Becoming one with the data\n",
    "  - Preparing data for modelling\n",
    "  - Creating a CNN model (starting with a baseline)\n",
    "  - Fitting a model (getting it to find patterns in our data)\n",
    "  - Evaluating a model\n",
    "  - Improving a model\n",
    "  - Making a prediction with a trained model\n",
    "- Steps in modelling for multi-class image classification with CNNs\n",
    " - Same as above (but this time with a different dataset)"
   ]
  },
  {
   "cell_type": "markdown",
   "metadata": {},
   "source": [
    "## Get the data\n",
    "\n",
    "Because convolutional neural networks work so well with images, to learn more about them, we're going to start with a dataset of images.\n",
    "\n",
    "The images we're going to work with are from the [Food-101 dataset](https://data.vision.ee.ethz.ch/cvl/datasets_extra/food-101/), a collection of 101 different categories of 101,000 (1000 images per category) real-world images of food dishes. \n",
    "\n",
    "To begin, we're only going to use two of the categories, pizza 🍕 and steak 🥩 and build a binary classifier.\n",
    "\n",
    "> 🔑 **Note:** To prepare the data we're using, preprocessing steps such as, moving the images into different subset folders, have been done. To see these preprocessing steps check out [the preprocessing notebook](https://github.com/mrdbourke/tensorflow-deep-learning/blob/main/extras/image_data_modification.ipynb).\n",
    "\n",
    "We'll download the `pizza_steak` subset .zip file and unzip it."
   ]
  },
  {
   "cell_type": "code",
   "execution_count": 8,
   "metadata": {},
   "outputs": [
    {
     "name": "stdout",
     "output_type": "stream",
     "text": [
      "Zip file downloaded and extracted successfully.\n"
     ]
    }
   ],
   "source": [
    "import requests\n",
    "import zipfile\n",
    "import io\n",
    "\n",
    "# URL of the zip file\n",
    "url = \"https://storage.googleapis.com/ztm_tf_course/food_vision/pizza_steak.zip\"\n",
    "\n",
    "# Specify the local file path where you want to save the zip file\n",
    "zip_file_path = \"pizza_steak.zip\"\n",
    "\n",
    "# Download the zip file\n",
    "response = requests.get(url)\n",
    "\n",
    "if response.status_code == 200:\n",
    "    with open(zip_file_path, \"wb\") as zip_file:\n",
    "        zip_file.write(response.content)\n",
    "\n",
    "    # Extract the contents of the zip file\n",
    "    with zipfile.ZipFile(zip_file_path, \"r\") as zip_ref:\n",
    "        zip_ref.extractall(\"path/to/extracted/folder\")\n",
    "\n",
    "    print(\"Zip file downloaded and extracted successfully.\")\n",
    "else:\n",
    "    print(f\"Failed to download the zip file. Status code: {response.status_code}\")\n",
    "\n",
    "# Clean up: Delete the downloaded zip file if needed\n",
    "# Uncomment the following line to delete the zip file after extraction\n",
    "# import os\n",
    "# os.remove(zip_file_path)\n"
   ]
  },
  {
   "cell_type": "markdown",
   "metadata": {},
   "source": []
  }
 ],
 "metadata": {
  "kernelspec": {
   "display_name": "tf",
   "language": "python",
   "name": "python3"
  },
  "language_info": {
   "codemirror_mode": {
    "name": "ipython",
    "version": 3
   },
   "file_extension": ".py",
   "mimetype": "text/x-python",
   "name": "python",
   "nbconvert_exporter": "python",
   "pygments_lexer": "ipython3",
   "version": "3.9.17"
  }
 },
 "nbformat": 4,
 "nbformat_minor": 2
}
