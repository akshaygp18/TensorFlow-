{
 "cells": [
  {
   "cell_type": "markdown",
   "metadata": {},
   "source": [
    "### Introduction to Neural Networks in Tensorflow"
   ]
  },
  {
   "cell_type": "code",
   "execution_count": 1,
   "metadata": {},
   "outputs": [
    {
     "name": "stdout",
     "output_type": "stream",
     "text": [
      "2.13.0\n"
     ]
    }
   ],
   "source": [
    "# Import tensorflow\n",
    "import tensorflow as tf\n",
    "print(tf.__version__)\n"
   ]
  },
  {
   "cell_type": "markdown",
   "metadata": {},
   "source": [
    "### Creating data to view and fit"
   ]
  },
  {
   "cell_type": "code",
   "execution_count": 2,
   "metadata": {},
   "outputs": [
    {
     "data": {
      "text/plain": [
       "<matplotlib.collections.PathCollection at 0x1e248b810d0>"
      ]
     },
     "execution_count": 2,
     "metadata": {},
     "output_type": "execute_result"
    },
    {
     "data": {
      "image/png": "[encoded data removed]",
      "text/plain": [
       "<Figure size 640x480 with 1 Axes>"
      ]
     },
     "metadata": {},
     "output_type": "display_data"
    }
   ],
   "source": [
    "import numpy as np\n",
    "import matplotlib.pyplot as plt\n",
    "\n",
    "# Create features\n",
    "X = np.array([-1.0,-3.0,-1.0,5,6,4,6,2])\n",
    "\n",
    "# Create labels\n",
    "y = np.array([-1.0,-3.0,-1.0,5,6,4,6,2])\n",
    "\n",
    "# Visualize it\n",
    "plt.scatter(X, y)"
   ]
  },
  {
   "cell_type": "markdown",
   "metadata": {},
   "source": [
    "### Input and output shapes"
   ]
  },
  {
   "cell_type": "code",
   "execution_count": 3,
   "metadata": {},
   "outputs": [
    {
     "data": {
      "text/plain": [
       "(<tf.Tensor: shape=(3,), dtype=string, numpy=array([b'bedroom', b'bathroom', b'garage'], dtype=object)>,\n",
       " <tf.Tensor: shape=(1,), dtype=int32, numpy=array([939700])>)"
      ]
     },
     "execution_count": 3,
     "metadata": {},
     "output_type": "execute_result"
    }
   ],
   "source": [
    "# Create a demo tensor for our housing price prediction problem\n",
    "house_info = tf.constant([\"bedroom\",\"bathroom\",\"garage\"])\n",
    "house_price = tf.constant([939700])\n",
    "house_info,house_price"
   ]
  },
  {
   "cell_type": "code",
   "execution_count": 4,
   "metadata": {},
   "outputs": [
    {
     "data": {
      "text/plain": [
       "(<tf.Tensor: shape=(8,), dtype=float64, numpy=array([-1., -3., -1.,  5.,  6.,  4.,  6.,  2.])>,\n",
       " <tf.Tensor: shape=(8,), dtype=float64, numpy=array([-1., -3., -1.,  5.,  6.,  4.,  6.,  2.])>)"
      ]
     },
     "execution_count": 4,
     "metadata": {},
     "output_type": "execute_result"
    }
   ],
   "source": [
    " # Turn our numpy arrays into tensors\n",
    "X = tf.constant(X)\n",
    "y = tf.constant(y)\n",
    "X,y"
   ]
  },
  {
   "cell_type": "code",
   "execution_count": 5,
   "metadata": {},
   "outputs": [
    {
     "data": {
      "text/plain": [
       "<matplotlib.collections.PathCollection at 0x1e24ad80250>"
      ]
     },
     "execution_count": 5,
     "metadata": {},
     "output_type": "execute_result"
    },
    {
     "data": {
      "image/png": "[encoded data removed]",
      "text/plain": [
       "<Figure size 640x480 with 1 Axes>"
      ]
     },
     "metadata": {},
     "output_type": "display_data"
    }
   ],
   "source": [
    "plt.scatter(X, y)"
   ]
  },
  {
   "cell_type": "markdown",
   "metadata": {},
   "source": [
    "### Steps in modelling with TensorFlow\n",
    "1. **Creating a model** - define the input and output layers, as well as the hidden layers of a deep learning model.\n",
    "2. **Compiling a model** - define the loss function (in other words, the function which tells our model how wrong it is) and the optimizer (tells our model how to improve the patterns its learning) and evaluation metrics (what we can use to interpret the performance of our model).\n",
    "3. **Fitting a model** -letting the model try to find patterns between X and y (features and labels)"
   ]
  },
  {
   "cell_type": "code",
   "execution_count": 6,
   "metadata": {},
   "outputs": [
    {
     "name": "stdout",
     "output_type": "stream",
     "text": [
      "Epoch 1/5\n",
      "1/1 [==============================] - 0s 259ms/step - loss: 6.8161 - mae: 6.8161\n",
      "Epoch 2/5\n",
      "1/1 [==============================] - 0s 0s/step - loss: 6.6930 - mae: 6.6930\n",
      "Epoch 3/5\n",
      "1/1 [==============================] - 0s 0s/step - loss: 6.5698 - mae: 6.5698\n",
      "Epoch 4/5\n",
      "1/1 [==============================] - 0s 3ms/step - loss: 6.4467 - mae: 6.4467\n",
      "Epoch 5/5\n",
      "1/1 [==============================] - 0s 0s/step - loss: 6.3236 - mae: 6.3236\n"
     ]
    },
    {
     "data": {
      "text/plain": [
       "<keras.src.callbacks.History at 0x1e24bdf4730>"
      ]
     },
     "execution_count": 6,
     "metadata": {},
     "output_type": "execute_result"
    }
   ],
   "source": [
    "# set random seed\n",
    "tf.random.set_seed(42)\n",
    "\n",
    "# 1. Create a model using the Sequential API\n",
    "model = tf.keras.Sequential([tf.keras.layers.Dense(1)])\n",
    "\n",
    "# 2. Compile the model \n",
    "model.compile(loss=tf.keras.losses.mae, # mae isshort for mean absolute error\n",
    "              optimizer = tf.keras.optimizers.SGD(), # SGD is short for stochastic gradient descent\n",
    "            metrics=[\"mae\"])\n",
    "\n",
    "# 3. Fit the model\n",
    "model.fit(tf.expand_dims(X, axis=-1), y, epochs=5)"
   ]
  },
  {
   "cell_type": "code",
   "execution_count": 7,
   "metadata": {},
   "outputs": [
    {
     "name": "stdout",
     "output_type": "stream",
     "text": [
      "1/1 [==============================] - 0s 62ms/step\n"
     ]
    },
    {
     "data": {
      "text/plain": [
       "array([[-13.11925]], dtype=float32)"
      ]
     },
     "execution_count": 7,
     "metadata": {},
     "output_type": "execute_result"
    }
   ],
   "source": [
    "# Try and make a prediction using our model\n",
    "y_pred = model.predict([17.0])\n",
    "y_pred"
   ]
  },
  {
   "cell_type": "markdown",
   "metadata": {},
   "source": [
    "🤔 Question: What's Keras? I thought we were working with TensorFlow but every time we write TensorFlow code, keras comes after tf (e.g. tf.keras.layers.Dense())?\n",
    "\n",
    "Before TensorFlow 2.0+, Keras was an API designed to be able to build deep learning models with ease. Since TensorFlow 2.0+, its functionality has been tightly integrated within the TensorFlow library."
   ]
  },
  {
   "cell_type": "markdown",
   "metadata": {},
   "source": [
    "### Improving our model\n",
    "How do you think you'd improve upon our current model?\n",
    "\n",
    "If you guessed by tweaking some of the things we did above, you'd be correct.\n",
    "\n",
    "To improve our model, we alter almost every part of the 3 steps we went through before.\n",
    "\n",
    "1. **Creating a model** - here you might want to add more layers, increase the number of hidden units (also called neurons) within each layer, change the activation functions of each layer.\n",
    "2. **Compiling a model** - you might want to choose optimization function or perhaps change the **learning rate** of the optimization function.\n",
    "3. **Fitting a model** - perhaps you could fit a model for more **epochs** (leave it training for longer) or on more data (give the model more examples to learn from).\n",
    "\n",
    "![various options you can use to improve a neural network model](https://raw.githubusercontent.com/mrdbourke/tensorflow-deep-learning/main/images/02-improving-a-model-from-model-perspective.png)\n",
    "*There are many different ways to potentially improve a neural network. Some of the most common include: increasing the number of layers (making the network deeper), increasing the number of hidden units (making the network wider) and changing the learning rate. Because these values are all human-changeable, they're referred to as [hyperparameters](https://en.wikipedia.org/wiki/Hyperparameter_(machine_learning)) and the practice of trying to find the best hyperparameters is referred to as [hyperparameter tuning](https://en.wikipedia.org/wiki/Hyperparameter_optimization).*\n",
    "\n",
    "Woah. We just introduced a bunch of possible steps. The important thing to remember is how you alter each of these will depend on the problem you're working on.\n",
    "\n",
    "And the good thing is, over the next few problems, we'll get hands-on with all of them.\n",
    "\n",
    "For now, let's keep it simple, all we'll do is train our model for longer (everything else will stay the same)."
   ]
  },
  {
   "cell_type": "code",
   "execution_count": 8,
   "metadata": {},
   "outputs": [
    {
     "name": "stdout",
     "output_type": "stream",
     "text": [
      "Epoch 1/100\n",
      "1/1 [==============================] - 0s 201ms/step - loss: 4.3529 - mae: 4.3529\n",
      "Epoch 2/100\n",
      "1/1 [==============================] - 0s 2ms/step - loss: 4.2298 - mae: 4.2298\n",
      "Epoch 3/100\n",
      "1/1 [==============================] - 0s 0s/step - loss: 4.1067 - mae: 4.1067\n",
      "Epoch 4/100\n",
      "1/1 [==============================] - 0s 9ms/step - loss: 3.9835 - mae: 3.9835\n",
      "Epoch 5/100\n",
      "1/1 [==============================] - 0s 3ms/step - loss: 3.8604 - mae: 3.8604\n",
      "Epoch 6/100\n",
      "1/1 [==============================] - 0s 3ms/step - loss: 3.7373 - mae: 3.7373\n",
      "Epoch 7/100\n",
      "1/1 [==============================] - 0s 3ms/step - loss: 3.6142 - mae: 3.6142\n",
      "Epoch 8/100\n",
      "1/1 [==============================] - 0s 5ms/step - loss: 3.4910 - mae: 3.4910\n",
      "Epoch 9/100\n",
      "1/1 [==============================] - 0s 3ms/step - loss: 3.3679 - mae: 3.3679\n",
      "Epoch 10/100\n",
      "1/1 [==============================] - 0s 1ms/step - loss: 3.2448 - mae: 3.2448\n",
      "Epoch 11/100\n",
      "1/1 [==============================] - 0s 0s/step - loss: 3.1217 - mae: 3.1217\n",
      "Epoch 12/100\n",
      "1/1 [==============================] - 0s 3ms/step - loss: 2.9985 - mae: 2.9985\n",
      "Epoch 13/100\n",
      "1/1 [==============================] - 0s 4ms/step - loss: 2.8754 - mae: 2.8754\n",
      "Epoch 14/100\n",
      "1/1 [==============================] - 0s 0s/step - loss: 2.7523 - mae: 2.7523\n",
      "Epoch 15/100\n",
      "1/1 [==============================] - 0s 7ms/step - loss: 2.6292 - mae: 2.6292\n",
      "Epoch 16/100\n",
      "1/1 [==============================] - 0s 4ms/step - loss: 2.5060 - mae: 2.5060\n",
      "Epoch 17/100\n",
      "1/1 [==============================] - 0s 0s/step - loss: 2.3829 - mae: 2.3829\n",
      "Epoch 18/100\n",
      "1/1 [==============================] - 0s 0s/step - loss: 2.2598 - mae: 2.2598\n",
      "Epoch 19/100\n",
      "1/1 [==============================] - 0s 12ms/step - loss: 2.1367 - mae: 2.1367\n",
      "Epoch 20/100\n",
      "1/1 [==============================] - 0s 4ms/step - loss: 2.0135 - mae: 2.0135\n",
      "Epoch 21/100\n",
      "1/1 [==============================] - 0s 1ms/step - loss: 1.8904 - mae: 1.8904\n",
      "Epoch 22/100\n",
      "1/1 [==============================] - 0s 0s/step - loss: 1.7673 - mae: 1.7673\n",
      "Epoch 23/100\n",
      "1/1 [==============================] - 0s 10ms/step - loss: 1.6442 - mae: 1.6442\n",
      "Epoch 24/100\n",
      "1/1 [==============================] - 0s 2ms/step - loss: 1.5210 - mae: 1.5210\n",
      "Epoch 25/100\n",
      "1/1 [==============================] - 0s 0s/step - loss: 1.3979 - mae: 1.3979\n",
      "Epoch 26/100\n",
      "1/1 [==============================] - 0s 0s/step - loss: 1.2748 - mae: 1.2748\n",
      "Epoch 27/100\n",
      "1/1 [==============================] - 0s 14ms/step - loss: 1.1517 - mae: 1.1517\n",
      "Epoch 28/100\n",
      "1/1 [==============================] - 0s 0s/step - loss: 1.0285 - mae: 1.0285\n",
      "Epoch 29/100\n",
      "1/1 [==============================] - 0s 0s/step - loss: 0.9054 - mae: 0.9054\n",
      "Epoch 30/100\n",
      "1/1 [==============================] - 0s 0s/step - loss: 0.7823 - mae: 0.7823\n",
      "Epoch 31/100\n",
      "1/1 [==============================] - 0s 14ms/step - loss: 0.6592 - mae: 0.6592\n",
      "Epoch 32/100\n",
      "1/1 [==============================] - 0s 2ms/step - loss: 0.5360 - mae: 0.5360\n",
      "Epoch 33/100\n",
      "1/1 [==============================] - 0s 2ms/step - loss: 0.4129 - mae: 0.4129\n",
      "Epoch 34/100\n",
      "1/1 [==============================] - 0s 3ms/step - loss: 0.2898 - mae: 0.2898\n",
      "Epoch 35/100\n",
      "1/1 [==============================] - 0s 3ms/step - loss: 0.1667 - mae: 0.1667\n",
      "Epoch 36/100\n",
      "1/1 [==============================] - 0s 921us/step - loss: 0.0593 - mae: 0.0593\n",
      "Epoch 37/100\n",
      "1/1 [==============================] - 0s 0s/step - loss: 0.0880 - mae: 0.0880\n",
      "Epoch 38/100\n",
      "1/1 [==============================] - 0s 0s/step - loss: 0.0636 - mae: 0.0636\n",
      "Epoch 39/100\n",
      "1/1 [==============================] - 0s 13ms/step - loss: 0.0948 - mae: 0.0948\n",
      "Epoch 40/100\n",
      "1/1 [==============================] - 0s 0s/step - loss: 0.0436 - mae: 0.0436\n",
      "Epoch 41/100\n",
      "1/1 [==============================] - 0s 0s/step - loss: 0.0767 - mae: 0.0767\n",
      "Epoch 42/100\n",
      "1/1 [==============================] - 0s 0s/step - loss: 0.0486 - mae: 0.0486\n",
      "Epoch 43/100\n",
      "1/1 [==============================] - 0s 0s/step - loss: 0.0836 - mae: 0.0836\n",
      "Epoch 44/100\n",
      "1/1 [==============================] - 0s 0s/step - loss: 0.0280 - mae: 0.0280\n",
      "Epoch 45/100\n",
      "1/1 [==============================] - 0s 0s/step - loss: 0.0655 - mae: 0.0655\n",
      "Epoch 46/100\n",
      "1/1 [==============================] - 0s 0s/step - loss: 0.0336 - mae: 0.0336\n",
      "Epoch 47/100\n",
      "1/1 [==============================] - 0s 0s/step - loss: 0.0789 - mae: 0.0789\n",
      "Epoch 48/100\n",
      "1/1 [==============================] - 0s 0s/step - loss: 0.0336 - mae: 0.0336\n",
      "Epoch 49/100\n",
      "1/1 [==============================] - 0s 0s/step - loss: 0.0733 - mae: 0.0733\n",
      "Epoch 50/100\n",
      "1/1 [==============================] - 0s 0s/step - loss: 0.0354 - mae: 0.0354\n",
      "Epoch 51/100\n",
      "1/1 [==============================] - 0s 0s/step - loss: 0.0877 - mae: 0.0877\n",
      "Epoch 52/100\n",
      "1/1 [==============================] - 0s 0s/step - loss: 0.0354 - mae: 0.0354\n",
      "Epoch 53/100\n",
      "1/1 [==============================] - 0s 0s/step - loss: 0.0877 - mae: 0.0877\n",
      "Epoch 54/100\n",
      "1/1 [==============================] - 0s 0s/step - loss: 0.0354 - mae: 0.0354\n",
      "Epoch 55/100\n",
      "1/1 [==============================] - 0s 0s/step - loss: 0.0877 - mae: 0.0877\n",
      "Epoch 56/100\n",
      "1/1 [==============================] - 0s 0s/step - loss: 0.0354 - mae: 0.0354\n",
      "Epoch 57/100\n",
      "1/1 [==============================] - 0s 0s/step - loss: 0.0877 - mae: 0.0877\n",
      "Epoch 58/100\n",
      "1/1 [==============================] - 0s 0s/step - loss: 0.0354 - mae: 0.0354\n",
      "Epoch 59/100\n",
      "1/1 [==============================] - 0s 0s/step - loss: 0.0877 - mae: 0.0877\n",
      "Epoch 60/100\n",
      "1/1 [==============================] - 0s 0s/step - loss: 0.0354 - mae: 0.0354\n",
      "Epoch 61/100\n",
      "1/1 [==============================] - 0s 0s/step - loss: 0.0877 - mae: 0.0877\n",
      "Epoch 62/100\n",
      "1/1 [==============================] - 0s 0s/step - loss: 0.0354 - mae: 0.0354\n",
      "Epoch 63/100\n",
      "1/1 [==============================] - 0s 0s/step - loss: 0.0877 - mae: 0.0877\n",
      "Epoch 64/100\n",
      "1/1 [==============================] - 0s 16ms/step - loss: 0.0354 - mae: 0.0354\n",
      "Epoch 65/100\n",
      "1/1 [==============================] - 0s 0s/step - loss: 0.0877 - mae: 0.0877\n",
      "Epoch 66/100\n",
      "1/1 [==============================] - 0s 0s/step - loss: 0.0354 - mae: 0.0354\n",
      "Epoch 67/100\n",
      "1/1 [==============================] - 0s 0s/step - loss: 0.0877 - mae: 0.0877\n",
      "Epoch 68/100\n",
      "1/1 [==============================] - 0s 16ms/step - loss: 0.0354 - mae: 0.0354\n",
      "Epoch 69/100\n",
      "1/1 [==============================] - 0s 0s/step - loss: 0.0877 - mae: 0.0877\n",
      "Epoch 70/100\n",
      "1/1 [==============================] - 0s 0s/step - loss: 0.0354 - mae: 0.0354\n",
      "Epoch 71/100\n",
      "1/1 [==============================] - 0s 0s/step - loss: 0.0877 - mae: 0.0877\n",
      "Epoch 72/100\n",
      "1/1 [==============================] - 0s 16ms/step - loss: 0.0354 - mae: 0.0354\n",
      "Epoch 73/100\n",
      "1/1 [==============================] - 0s 0s/step - loss: 0.0877 - mae: 0.0877\n",
      "Epoch 74/100\n",
      "1/1 [==============================] - 0s 0s/step - loss: 0.0354 - mae: 0.0354\n",
      "Epoch 75/100\n",
      "1/1 [==============================] - 0s 0s/step - loss: 0.0877 - mae: 0.0877\n",
      "Epoch 76/100\n",
      "1/1 [==============================] - 0s 16ms/step - loss: 0.0354 - mae: 0.0354\n",
      "Epoch 77/100\n",
      "1/1 [==============================] - 0s 0s/step - loss: 0.0877 - mae: 0.0877\n",
      "Epoch 78/100\n",
      "1/1 [==============================] - 0s 0s/step - loss: 0.0354 - mae: 0.0354\n",
      "Epoch 79/100\n",
      "1/1 [==============================] - 0s 0s/step - loss: 0.0877 - mae: 0.0877\n",
      "Epoch 80/100\n",
      "1/1 [==============================] - 0s 16ms/step - loss: 0.0354 - mae: 0.0354\n",
      "Epoch 81/100\n",
      "1/1 [==============================] - 0s 0s/step - loss: 0.0877 - mae: 0.0877\n",
      "Epoch 82/100\n",
      "1/1 [==============================] - 0s 0s/step - loss: 0.0354 - mae: 0.0354\n",
      "Epoch 83/100\n",
      "1/1 [==============================] - 0s 3ms/step - loss: 0.0877 - mae: 0.0877\n",
      "Epoch 84/100\n",
      "1/1 [==============================] - 0s 0s/step - loss: 0.0354 - mae: 0.0354\n",
      "Epoch 85/100\n",
      "1/1 [==============================] - 0s 0s/step - loss: 0.0877 - mae: 0.0877\n",
      "Epoch 86/100\n",
      "1/1 [==============================] - 0s 0s/step - loss: 0.0354 - mae: 0.0354\n",
      "Epoch 87/100\n",
      "1/1 [==============================] - 0s 0s/step - loss: 0.0877 - mae: 0.0877\n",
      "Epoch 88/100\n",
      "1/1 [==============================] - 0s 0s/step - loss: 0.0354 - mae: 0.0354\n",
      "Epoch 89/100\n",
      "1/1 [==============================] - 0s 0s/step - loss: 0.0877 - mae: 0.0877\n",
      "Epoch 90/100\n",
      "1/1 [==============================] - 0s 0s/step - loss: 0.0354 - mae: 0.0354\n",
      "Epoch 91/100\n",
      "1/1 [==============================] - 0s 0s/step - loss: 0.0877 - mae: 0.0877\n",
      "Epoch 92/100\n",
      "1/1 [==============================] - 0s 0s/step - loss: 0.0354 - mae: 0.0354\n",
      "Epoch 93/100\n",
      "1/1 [==============================] - 0s 0s/step - loss: 0.0877 - mae: 0.0877\n",
      "Epoch 94/100\n",
      "1/1 [==============================] - 0s 0s/step - loss: 0.0354 - mae: 0.0354\n",
      "Epoch 95/100\n",
      "1/1 [==============================] - 0s 0s/step - loss: 0.0877 - mae: 0.0877\n",
      "Epoch 96/100\n",
      "1/1 [==============================] - 0s 0s/step - loss: 0.0354 - mae: 0.0354\n",
      "Epoch 97/100\n",
      "1/1 [==============================] - 0s 0s/step - loss: 0.0877 - mae: 0.0877\n",
      "Epoch 98/100\n",
      "1/1 [==============================] - 0s 3ms/step - loss: 0.0354 - mae: 0.0354\n",
      "Epoch 99/100\n",
      "1/1 [==============================] - 0s 2ms/step - loss: 0.0877 - mae: 0.0877\n",
      "Epoch 100/100\n",
      "1/1 [==============================] - 0s 3ms/step - loss: 0.0354 - mae: 0.0354\n"
     ]
    },
    {
     "data": {
      "text/plain": [
       "<keras.src.callbacks.History at 0x1e24d00e5e0>"
      ]
     },
     "execution_count": 8,
     "metadata": {},
     "output_type": "execute_result"
    }
   ],
   "source": [
    "# Let's rebuild the model with epochs=100\n",
    "# set random seed\n",
    "tf.random.set_seed(42)\n",
    "\n",
    "# 1. Create a model using the Sequential API\n",
    "model = tf.keras.Sequential([tf.keras.layers.Dense(1)])\n",
    "\n",
    "# 2. Compile the model \n",
    "model.compile(loss=tf.keras.losses.mae, # mae isshort for mean absolute error\n",
    "              optimizer = tf.keras.optimizers.SGD(), # SGD is short for stochastic gradient descent\n",
    "            metrics=[\"mae\"])\n",
    "\n",
    "# 3. Fit the model\n",
    "model.fit(tf.expand_dims(X, axis=-1), y, epochs=100)"
   ]
  },
  {
   "cell_type": "code",
   "execution_count": 9,
   "metadata": {},
   "outputs": [
    {
     "name": "stdout",
     "output_type": "stream",
     "text": [
      "1/1 [==============================] - 0s 50ms/step\n"
     ]
    },
    {
     "data": {
      "text/plain": [
       "array([[17.422298]], dtype=float32)"
      ]
     },
     "execution_count": 9,
     "metadata": {},
     "output_type": "execute_result"
    }
   ],
   "source": [
    "# Let's see if our model's prediction has improved\n",
    "y_pred2 = model.predict([17.0])\n",
    "y_pred2"
   ]
  },
  {
   "cell_type": "markdown",
   "metadata": {},
   "source": [
    "Much better!\n",
    "\n",
    "We got closer this time. But we could still be better.\n",
    "\n",
    "Now we've trained a model, how could we evaluate it?"
   ]
  },
  {
   "cell_type": "markdown",
   "metadata": {},
   "source": [
    "### Evaluating a model\n",
    "\n",
    "A typical workflow you'll go through when building neural networks is:\n",
    "\n",
    "```\n",
    "Build a model -> evaluate it -> build (tweak) a model -> evaulate it -> build (tweak) a model -> evaluate it...\n",
    "```\n",
    "\n",
    "The tweaking comes from maybe not building a model from scratch but adjusting an existing one.\n",
    "\n",
    "### Visualize, visualize, visualize\n",
    "\n",
    "When it comes to evaluation, you'll want to remember the words: \"visualize, visualize, visualize.\" \n",
    "\n",
    "This is because you're probably better looking at something (doing) than you are thinking about something.\n",
    "\n",
    "It's a good idea to visualize:\n",
    "* **The data** - what data are you working with? What does it look like?\n",
    "* **The model itself** - what does the architecture look like? What are the different shapes?\n",
    "* **The training of a model** - how does a model perform while it learns?\n",
    "* **The predictions of a model** - how do the predictions of a model line up against the ground truth (the original labels)?\n",
    "\n",
    "Let's start by visualizing the model.\n",
    "\n",
    "But first, we'll create a little bit of a bigger dataset and a new model we can use (it'll be the same as before, but the more practice the better).\n"
   ]
  },
  {
   "cell_type": "code",
   "execution_count": 10,
   "metadata": {},
   "outputs": [
    {
     "data": {
      "text/plain": [
       "<tf.Tensor: shape=(50,), dtype=int32, numpy=\n",
       "array([-100,  -96,  -92,  -88,  -84,  -80,  -76,  -72,  -68,  -64,  -60,\n",
       "        -56,  -52,  -48,  -44,  -40,  -36,  -32,  -28,  -24,  -20,  -16,\n",
       "        -12,   -8,   -4,    0,    4,    8,   12,   16,   20,   24,   28,\n",
       "         32,   36,   40,   44,   48,   52,   56,   60,   64,   68,   72,\n",
       "         76,   80,   84,   88,   92,   96])>"
      ]
     },
     "execution_count": 10,
     "metadata": {},
     "output_type": "execute_result"
    }
   ],
   "source": [
    "# Make a bigger dataset\n",
    "X = tf.range(-100,100,4)\n",
    "X"
   ]
  },
  {
   "cell_type": "code",
   "execution_count": 11,
   "metadata": {},
   "outputs": [
    {
     "data": {
      "text/plain": [
       "<tf.Tensor: shape=(50,), dtype=int32, numpy=\n",
       "array([-90, -86, -82, -78, -74, -70, -66, -62, -58, -54, -50, -46, -42,\n",
       "       -38, -34, -30, -26, -22, -18, -14, -10,  -6,  -2,   2,   6,  10,\n",
       "        14,  18,  22,  26,  30,  34,  38,  42,  46,  50,  54,  58,  62,\n",
       "        66,  70,  74,  78,  82,  86,  90,  94,  98, 102, 106])>"
      ]
     },
     "execution_count": 11,
     "metadata": {},
     "output_type": "execute_result"
    }
   ],
   "source": [
    "# Make labels for the dataset\n",
    "y = X + 10\n",
    "y"
   ]
  },
  {
   "cell_type": "code",
   "execution_count": 12,
   "metadata": {},
   "outputs": [
    {
     "data": {
      "text/plain": [
       "<matplotlib.collections.PathCollection at 0x1e24d112cd0>"
      ]
     },
     "execution_count": 12,
     "metadata": {},
     "output_type": "execute_result"
    },
    {
     "data": {
      "image/png": "[encoded data removed]",
      "text/plain": [
       "<Figure size 640x480 with 1 Axes>"
      ]
     },
     "metadata": {},
     "output_type": "display_data"
    }
   ],
   "source": [
    "# Visualize the data\n",
    "import matplotlib.pyplot as plt\n",
    "plt.scatter(X,y)"
   ]
  },
  {
   "cell_type": "markdown",
   "metadata": {},
   "source": [
    "## Split data into training/test set\n",
    "\n",
    "One of the other most common and important steps in a machine learning project is creating a training and test set (and when required, a validation set).\n",
    "\n",
    "Each set serves a specific purpose:\n",
    "* **Training set** - the model learns from this data, which is typically 70-80% of the total data available (like the course materials you study during the semester).\n",
    "* **Validation set** - the model gets tuned on this data, which is typically 10-15% of the total data available (like the practice exam you take before the final exam).\n",
    "* **Test set** - the model gets evaluated on this data to test what it has learned, it's typically 10-15% of the total data available (like the final exam you take at the end of the semester).\n",
    "\n",
    "For now, we'll just use a training and test set, this means we'll have a dataset for our model to learn on as well as be evaluated on.\n",
    "\n",
    "We can create them by splitting our `X` and `y` arrays.\n",
    "\n",
    "> 🔑 **Note:** When dealing with real-world data, this step is typically done right at the start of a project (the test set should always be kept separate from all other data). We want our model to learn on training data and then evaluate it on test data to get an indication of how well it **generalizes** to unseen examples."
   ]
  },
  {
   "cell_type": "code",
   "execution_count": 13,
   "metadata": {},
   "outputs": [
    {
     "data": {
      "text/plain": [
       "50"
      ]
     },
     "execution_count": 13,
     "metadata": {},
     "output_type": "execute_result"
    }
   ],
   "source": [
    "# Check how many samples we have\n",
    "len(X)"
   ]
  },
  {
   "cell_type": "code",
   "execution_count": 14,
   "metadata": {},
   "outputs": [
    {
     "data": {
      "text/plain": [
       "(40, 10)"
      ]
     },
     "execution_count": 14,
     "metadata": {},
     "output_type": "execute_result"
    }
   ],
   "source": [
    "# Split data into train and test sets\n",
    "X_train = X[:40] # first 40 examples (80% of data)\n",
    "y_train = y[:40]\n",
    "\n",
    "X_test = X[40:] # last 10 examples (20% of data)\n",
    "y_test = y[40:]\n",
    "\n",
    "len(X_train), len(X_test)"
   ]
  },
  {
   "cell_type": "markdown",
   "metadata": {},
   "source": [
    "## Visualizing the data\n",
    "\n",
    "Now we've got our training and test data, it's a good idea to visualize it.\n",
    "\n",
    "Let's plot it with some nice colours to differentiate what's what."
   ]
  },
  {
   "cell_type": "code",
   "execution_count": 15,
   "metadata": {},
   "outputs": [
    {
     "data": {
      "text/plain": [
       "<matplotlib.legend.Legend at 0x1e24d2f5e50>"
      ]
     },
     "execution_count": 15,
     "metadata": {},
     "output_type": "execute_result"
    },
    {
     "data": {
      "image/png": "[encoded data removed]",
      "text/plain": [
       "<Figure size 1000x700 with 1 Axes>"
      ]
     },
     "metadata": {},
     "output_type": "display_data"
    }
   ],
   "source": [
    "plt.figure(figsize=(10, 7))\n",
    "# Plot training data in blue\n",
    "plt.scatter(X_train, y_train, c='b', label='Training data')\n",
    "# Plot test data in green\n",
    "plt.scatter(X_test, y_test, c='g', label='Testing data')\n",
    "# Show the legend\n",
    "plt.legend()"
   ]
  },
  {
   "cell_type": "markdown",
   "metadata": {},
   "source": [
    "Beautiful! Any time you can visualize your data, your model, your anything, it's a good idea. \n",
    "\n",
    "With this graph in mind, what we'll be trying to do is build a model which learns the pattern in the blue dots (`X_train`) to draw the green dots (`X_test`).\n",
    "\n",
    "Time to build a model. We'll make the exact same one from before (the one we trained for longer)."
   ]
  },
  {
   "cell_type": "code",
   "execution_count": 16,
   "metadata": {},
   "outputs": [],
   "source": [
    "# Set random seed\n",
    "tf.random.set_seed(42)\n",
    "\n",
    "# Create a model (same as above)\n",
    "model = tf.keras.Sequential([\n",
    "  tf.keras.layers.Dense(1)\n",
    "])\n",
    "\n",
    "# Compile model (same as above)\n",
    "model.compile(loss=tf.keras.losses.mae,\n",
    "              optimizer=tf.keras.optimizers.SGD(),\n",
    "              metrics=[\"mae\"])\n",
    "\n",
    "# Fit model (same as above)\n",
    "#model.fit(X_train, y_train, epochs=100) # commented out on purpose (not fitting it just yet)"
   ]
  },
  {
   "cell_type": "markdown",
   "metadata": {},
   "source": [
    "## Visualizing the model\n",
    "\n",
    "After you've built a model, you might want to take a look at it (especially if you haven't built many before).\n",
    "\n",
    "You can take a look at the layers and shapes of your model by calling [`summary()`](https://www.tensorflow.org/api_docs/python/tf/keras/Model#summary) on it.\n",
    "\n",
    "> 🔑 **Note:** Visualizing a model is particularly helpful when you run into input and output shape mismatches."
   ]
  },
  {
   "cell_type": "code",
   "execution_count": 17,
   "metadata": {},
   "outputs": [
    {
     "ename": "ValueError",
     "evalue": "This model has not yet been built. Build the model first by calling `build()` or by calling the model on a batch of data.",
     "output_type": "error",
     "traceback": [
      "\u001b[1;31m---------------------------------------------------------------------------\u001b[0m",
      "\u001b[1;31mValueError\u001b[0m                                Traceback (most recent call last)",
      "\u001b[1;32md:\\Ineuron\\TensorFlow-\\notebook\\Neural_network_regression_with_tensorflow.ipynb Cell 29\u001b[0m line \u001b[0;36m2\n\u001b[0;32m      <a href='vscode-notebook-cell:/d%3A/Ineuron/TensorFlow-/notebook/Neural_network_regression_with_tensorflow.ipynb#X40sZmlsZQ%3D%3D?line=0'>1</a>\u001b[0m \u001b[39m# Doesn't work (model not fit/built)\u001b[39;00m\n\u001b[1;32m----> <a href='vscode-notebook-cell:/d%3A/Ineuron/TensorFlow-/notebook/Neural_network_regression_with_tensorflow.ipynb#X40sZmlsZQ%3D%3D?line=1'>2</a>\u001b[0m model\u001b[39m.\u001b[39;49msummary()\n",
      "File \u001b[1;32mc:\\Users\\pc\\anaconda3\\envs\\tf\\lib\\site-packages\\keras\\src\\engine\\training.py:3403\u001b[0m, in \u001b[0;36mModel.summary\u001b[1;34m(self, line_length, positions, print_fn, expand_nested, show_trainable, layer_range)\u001b[0m\n\u001b[0;32m   3372\u001b[0m \u001b[39m\u001b[39m\u001b[39m\"\"\"Prints a string summary of the network.\u001b[39;00m\n\u001b[0;32m   3373\u001b[0m \n\u001b[0;32m   3374\u001b[0m \u001b[39mArgs:\u001b[39;00m\n\u001b[1;32m   (...)\u001b[0m\n\u001b[0;32m   3400\u001b[0m \u001b[39m    ValueError: if `summary()` is called before the model is built.\u001b[39;00m\n\u001b[0;32m   3401\u001b[0m \u001b[39m\"\"\"\u001b[39;00m\n\u001b[0;32m   3402\u001b[0m \u001b[39mif\u001b[39;00m \u001b[39mnot\u001b[39;00m \u001b[39mself\u001b[39m\u001b[39m.\u001b[39mbuilt:\n\u001b[1;32m-> 3403\u001b[0m     \u001b[39mraise\u001b[39;00m \u001b[39mValueError\u001b[39;00m(\n\u001b[0;32m   3404\u001b[0m         \u001b[39m\"\u001b[39m\u001b[39mThis model has not yet been built. \u001b[39m\u001b[39m\"\u001b[39m\n\u001b[0;32m   3405\u001b[0m         \u001b[39m\"\u001b[39m\u001b[39mBuild the model first by calling `build()` or by calling \u001b[39m\u001b[39m\"\u001b[39m\n\u001b[0;32m   3406\u001b[0m         \u001b[39m\"\u001b[39m\u001b[39mthe model on a batch of data.\u001b[39m\u001b[39m\"\u001b[39m\n\u001b[0;32m   3407\u001b[0m     )\n\u001b[0;32m   3408\u001b[0m layer_utils\u001b[39m.\u001b[39mprint_summary(\n\u001b[0;32m   3409\u001b[0m     \u001b[39mself\u001b[39m,\n\u001b[0;32m   3410\u001b[0m     line_length\u001b[39m=\u001b[39mline_length,\n\u001b[1;32m   (...)\u001b[0m\n\u001b[0;32m   3415\u001b[0m     layer_range\u001b[39m=\u001b[39mlayer_range,\n\u001b[0;32m   3416\u001b[0m )\n",
      "\u001b[1;31mValueError\u001b[0m: This model has not yet been built. Build the model first by calling `build()` or by calling the model on a batch of data."
     ]
    }
   ],
   "source": [
    "# Doesn't work (model not fit/built)\n",
    "model.summary()"
   ]
  },
  {
   "cell_type": "markdown",
   "metadata": {},
   "source": [
    "Ahh, the cell above errors because we haven't fit or built our model.\n",
    "\n",
    "We also haven't told it what input shape it should be expecting.\n",
    "\n",
    "Remember above, how we discussed the input shape was just one number?\n",
    "\n",
    "We can let our model know the input shape of our data using the `input_shape` parameter to the first layer (usually if `input_shape` isn't defined, Keras tries to figure it out automatically)."
   ]
  },
  {
   "cell_type": "code",
   "execution_count": 18,
   "metadata": {},
   "outputs": [],
   "source": [
    "# Set random seed\n",
    "tf.random.set_seed(42)\n",
    "\n",
    "# Create a model (same as above)\n",
    "model = tf.keras.Sequential([\n",
    "  tf.keras.layers.Dense(1, input_shape=[1]) # define the input_shape to our model\n",
    "])\n",
    "\n",
    "# Compile model (same as above)\n",
    "model.compile(loss=tf.keras.losses.mae,\n",
    "              optimizer=tf.keras.optimizers.SGD(),\n",
    "              metrics=[\"mae\"])"
   ]
  },
  {
   "cell_type": "code",
   "execution_count": 19,
   "metadata": {},
   "outputs": [
    {
     "name": "stdout",
     "output_type": "stream",
     "text": [
      "Model: \"sequential_3\"\n",
      "_________________________________________________________________\n",
      " Layer (type)                Output Shape              Param #   \n",
      "=================================================================\n",
      " dense_3 (Dense)             (None, 1)                 2         \n",
      "                                                                 \n",
      "=================================================================\n",
      "Total params: 2 (8.00 Byte)\n",
      "Trainable params: 2 (8.00 Byte)\n",
      "Non-trainable params: 0 (0.00 Byte)\n",
      "_________________________________________________________________\n"
     ]
    }
   ],
   "source": [
    "model.summary()"
   ]
  },
  {
   "cell_type": "markdown",
   "metadata": {},
   "source": [
    "Calling `summary()` on our model shows us the layers it contains, the output shape and the number of parameters.\n",
    "* **Total params** - total number of parameters in the model.\n",
    "* **Trainable parameters** - these are the parameters (patterns) the model can update as it trains.\n",
    "* **Non-trainable parameters** - these parameters aren't updated during training (this is typical when you bring in the already learned patterns from other models during transfer learning)."
   ]
  },
  {
   "cell_type": "code",
   "execution_count": 20,
   "metadata": {},
   "outputs": [
    {
     "data": {
      "text/plain": [
       "<keras.src.callbacks.History at 0x1e24d00b820>"
      ]
     },
     "execution_count": 20,
     "metadata": {},
     "output_type": "execute_result"
    }
   ],
   "source": [
    "# Fit the model to the training data\n",
    "model.fit(X_train, y_train, epochs=100, verbose=0) # verbose controls how much gets output"
   ]
  },
  {
   "cell_type": "code",
   "execution_count": 21,
   "metadata": {},
   "outputs": [
    {
     "name": "stdout",
     "output_type": "stream",
     "text": [
      "Model: \"sequential_3\"\n",
      "_________________________________________________________________\n",
      " Layer (type)                Output Shape              Param #   \n",
      "=================================================================\n",
      " dense_3 (Dense)             (None, 1)                 2         \n",
      "                                                                 \n",
      "=================================================================\n",
      "Total params: 2 (8.00 Byte)\n",
      "Trainable params: 2 (8.00 Byte)\n",
      "Non-trainable params: 0 (0.00 Byte)\n",
      "_________________________________________________________________\n"
     ]
    }
   ],
   "source": [
    "# Check the model summary\n",
    "model.summary()"
   ]
  },
  {
   "cell_type": "markdown",
   "metadata": {},
   "source": [
    "Alongside summary, you can also view a 2D plot of the model using [`plot_model()`](https://www.tensorflow.org/api_docs/python/tf/keras/utils/plot_model)."
   ]
  },
  {
   "cell_type": "code",
   "execution_count": 22,
   "metadata": {},
   "outputs": [
    {
     "name": "stdout",
     "output_type": "stream",
     "text": [
      "You must install pydot (`pip install pydot`) and install graphviz (see instructions at https://graphviz.gitlab.io/download/) for plot_model to work.\n"
     ]
    }
   ],
   "source": [
    "from tensorflow.keras.utils import plot_model\n",
    "\n",
    "plot_model(model, show_shapes=True)"
   ]
  },
  {
   "cell_type": "markdown",
   "metadata": {},
   "source": [
    "## Visualizing the predictions\n",
    "\n",
    "Now we've got a trained model, let's visualize some predictions.\n",
    "\n",
    "To visualize predictions, it's always a good idea to plot them against the ground truth labels.\n",
    "\n",
    "Often you'll see this in the form of `y_test` vs. `y_pred` (ground truth vs. predictions).\n",
    "\n",
    "First, we'll make some predictions on the test data (`X_test`), remember the model has never seen the test data."
   ]
  },
  {
   "cell_type": "code",
   "execution_count": 23,
   "metadata": {},
   "outputs": [
    {
     "name": "stdout",
     "output_type": "stream",
     "text": [
      "1/1 [==============================] - 0s 24ms/step\n"
     ]
    }
   ],
   "source": [
    "# Make predictions\n",
    "y_preds = model.predict(X_test)"
   ]
  },
  {
   "cell_type": "code",
   "execution_count": 24,
   "metadata": {},
   "outputs": [
    {
     "data": {
      "text/plain": [
       "array([[56.4561  ],\n",
       "       [60.135963],\n",
       "       [63.815826],\n",
       "       [67.49569 ],\n",
       "       [71.17556 ],\n",
       "       [74.85542 ],\n",
       "       [78.535286],\n",
       "       [82.21516 ],\n",
       "       [85.89502 ],\n",
       "       [89.57488 ]], dtype=float32)"
      ]
     },
     "execution_count": 24,
     "metadata": {},
     "output_type": "execute_result"
    }
   ],
   "source": [
    "y_preds"
   ]
  },
  {
   "cell_type": "markdown",
   "metadata": {},
   "source": [
    "Okay, we get a list of numbers but how do these compare to the ground truth labels?\n",
    "\n",
    "Let's build a plotting function to find out.\n",
    "\n",
    "> 🔑 **Note:** If you think you're going to be visualizing something a lot, it's a good idea to functionize it so you can use it later."
   ]
  },
  {
   "cell_type": "code",
   "execution_count": 25,
   "metadata": {},
   "outputs": [
    {
     "data": {
      "text/plain": [
       "<tf.Tensor: shape=(10,), dtype=int32, numpy=array([ 70,  74,  78,  82,  86,  90,  94,  98, 102, 106])>"
      ]
     },
     "execution_count": 25,
     "metadata": {},
     "output_type": "execute_result"
    }
   ],
   "source": [
    "y_test"
   ]
  },
  {
   "cell_type": "code",
   "execution_count": 26,
   "metadata": {},
   "outputs": [],
   "source": [
    "def plot_predictions(train_data=X_train, \n",
    "                     train_labels=y_train, \n",
    "                     test_data=X_test, \n",
    "                     test_labels=y_test, \n",
    "                     predictions=y_preds):\n",
    "  \"\"\"\n",
    "  Plots training data, test data and compares predictions.\n",
    "  \"\"\"\n",
    "  plt.figure(figsize=(10, 7))\n",
    "  # Plot training data in blue\n",
    "  plt.scatter(train_data, train_labels, c=\"b\", label=\"Training data\")\n",
    "  # Plot test data in green\n",
    "  plt.scatter(test_data, test_labels, c=\"g\", label=\"Testing data\")\n",
    "  # Plot the predictions in red (predictions were made on the test data)\n",
    "  plt.scatter(test_data, predictions, c=\"r\", label=\"Predictions\")\n",
    "  # Show the legend\n",
    "  plt.legend()"
   ]
  },
  {
   "cell_type": "code",
   "execution_count": 27,
   "metadata": {},
   "outputs": [
    {
     "data": {
      "image/png": "[encoded data removed]",
      "text/plain": [
       "<Figure size 1000x700 with 1 Axes>"
      ]
     },
     "metadata": {},
     "output_type": "display_data"
    }
   ],
   "source": [
    "plot_predictions(train_data=X_train,\n",
    "                 train_labels=y_train,\n",
    "                 test_data=X_test,\n",
    "                 test_labels=y_test,\n",
    "                 predictions=y_preds)"
   ]
  },
  {
   "cell_type": "markdown",
   "metadata": {},
   "source": [
    "## Evaluating predictions\n",
    "\n",
    "Alongside visualizations, evaulation metrics are your alternative best option for evaluating your model.\n",
    "\n",
    "Depending on the problem you're working on, different models have different evaluation metrics. \n",
    "\n",
    "Two of the main metrics used for regression problems are:\n",
    "* **Mean absolute error (MAE)** - the mean difference between each of the predictions.\n",
    "* **Mean squared error (MSE)** - the squared mean difference between of the predictions (use if larger errors are more detrimental than smaller errors).\n",
    "\n",
    "The lower each of these values, the better.\n",
    "\n",
    "You can also use [`model.evaluate()`](https://www.tensorflow.org/api_docs/python/tf/keras/Model#evaluate) which will return the loss of the model as well as any metrics setup during the compile step."
   ]
  },
  {
   "cell_type": "code",
   "execution_count": 28,
   "metadata": {},
   "outputs": [
    {
     "name": "stdout",
     "output_type": "stream",
     "text": [
      "1/1 [==============================] - 0s 70ms/step - loss: 14.9845 - mae: 14.9845\n"
     ]
    },
    {
     "data": {
      "text/plain": [
       "[14.984509468078613, 14.984509468078613]"
      ]
     },
     "execution_count": 28,
     "metadata": {},
     "output_type": "execute_result"
    }
   ],
   "source": [
    "# Evaluate the model on the test data\n",
    "model.evaluate(X_test,y_test)"
   ]
  },
  {
   "cell_type": "code",
   "execution_count": 29,
   "metadata": {},
   "outputs": [
    {
     "data": {
      "text/plain": [
       "<tf.Tensor: shape=(), dtype=float32, numpy=14.984509>"
      ]
     },
     "execution_count": 29,
     "metadata": {},
     "output_type": "execute_result"
    }
   ],
   "source": [
    "# Calculate the mean absolute error\n",
    "mae = tf.keras.losses.MAE(y_test,tf.squeeze(y_preds))\n",
    "mae"
   ]
  },
  {
   "cell_type": "code",
   "execution_count": 30,
   "metadata": {},
   "outputs": [
    {
     "data": {
      "text/plain": [
       "<tf.Tensor: shape=(), dtype=float32, numpy=225.38106>"
      ]
     },
     "execution_count": 30,
     "metadata": {},
     "output_type": "execute_result"
    }
   ],
   "source": [
    "# Calculate the mean square error\n",
    "mse = tf.keras.losses.MSE(y_test,tf.squeeze(y_preds))\n",
    "mse"
   ]
  },
  {
   "cell_type": "code",
   "execution_count": 31,
   "metadata": {},
   "outputs": [],
   "source": [
    "# Make some functions to reuse MAE and MSE\n",
    "def mae(y_true, y_pred):\n",
    "    \"\"\"\n",
    "  Calculuates mean absolute error between y_test and y_preds.\n",
    "  \"\"\"\n",
    "    return tf.metrics.mean_absolute_error(y_true=y_true, y_pred=y_pred)\n",
    "\n",
    "def mse(y_true, y_pred):\n",
    "    \"\"\"\n",
    "  Calculates mean squared error between y_test and y_preds.\n",
    "  \"\"\"\n",
    "    return tf.metrics.mean_squared_error(y_true=y_true, y_pred=y_pred)"
   ]
  },
  {
   "cell_type": "markdown",
   "metadata": {},
   "source": [
    "## Running experiments to improve a model\n",
    "\n",
    "After seeing the evaluation metrics and the predictions your model makes, it's likely you'll want to improve it.\n",
    "\n",
    "Again, there are many different ways you can do this, but 3 of the main ones are:\n",
    "1. **Get more data** - get more examples for your model to train on (more opportunities to learn patterns).\n",
    "2. **Make your model larger (use a more complex model)** - this might come in the form of more layers or more hidden units in each layer.\n",
    "3. **Train for longer** - give your model more of a chance to find the patterns in the data.\n",
    "\n",
    "Since we created our dataset, we could easily make more data but this isn't always the case when you're working with real-world datasets.\n",
    "\n",
    "So let's take a look at how we can improve our model using 2 and 3.\n",
    "\n",
    "To do so, we'll build 3 models and compare their results:\n",
    "1. `model_1` - same as original model, 1 layer, trained for 100 epochs.\n",
    "2. `model_2` - 2 layers, trained for 100 epochs.\n",
    "3. `model_3` - 2 layers, trained for 500 epochs.\n",
    "\n",
    "**Build `model_1`**"
   ]
  },
  {
   "cell_type": "code",
   "execution_count": 32,
   "metadata": {},
   "outputs": [
    {
     "name": "stdout",
     "output_type": "stream",
     "text": [
      "Epoch 1/100\n",
      "2/2 - 0s - loss: 85.5143 - mae: 85.5143 - 162ms/epoch - 81ms/step\n",
      "Epoch 2/100\n",
      "2/2 - 0s - loss: 50.0588 - mae: 50.0588 - 0s/epoch - 0s/step\n",
      "Epoch 3/100\n",
      "2/2 - 0s - loss: 15.2176 - mae: 15.2176 - 0s/epoch - 0s/step\n",
      "Epoch 4/100\n",
      "2/2 - 0s - loss: 7.9647 - mae: 7.9647 - 0s/epoch - 0s/step\n",
      "Epoch 5/100\n",
      "2/2 - 0s - loss: 10.2618 - mae: 10.2618 - 16ms/epoch - 8ms/step\n",
      "Epoch 6/100\n",
      "2/2 - 0s - loss: 9.5171 - mae: 9.5171 - 1ms/epoch - 503us/step\n",
      "Epoch 7/100\n",
      "2/2 - 0s - loss: 8.6464 - mae: 8.6464 - 0s/epoch - 0s/step\n",
      "Epoch 8/100\n",
      "2/2 - 0s - loss: 9.0750 - mae: 9.0750 - 0s/epoch - 0s/step\n",
      "Epoch 9/100\n",
      "2/2 - 0s - loss: 18.8941 - mae: 18.8941 - 0s/epoch - 0s/step\n",
      "Epoch 10/100\n",
      "2/2 - 0s - loss: 10.2117 - mae: 10.2117 - 0s/epoch - 0s/step\n",
      "Epoch 11/100\n",
      "2/2 - 0s - loss: 8.4515 - mae: 8.4515 - 0s/epoch - 0s/step\n",
      "Epoch 12/100\n",
      "2/2 - 0s - loss: 10.7469 - mae: 10.7469 - 0s/epoch - 0s/step\n",
      "Epoch 13/100\n",
      "2/2 - 0s - loss: 9.8467 - mae: 9.8467 - 0s/epoch - 0s/step\n",
      "Epoch 14/100\n",
      "2/2 - 0s - loss: 16.1583 - mae: 16.1583 - 17ms/epoch - 8ms/step\n",
      "Epoch 15/100\n",
      "2/2 - 0s - loss: 11.3228 - mae: 11.3228 - 0s/epoch - 0s/step\n",
      "Epoch 16/100\n",
      "2/2 - 0s - loss: 8.5947 - mae: 8.5947 - 0s/epoch - 0s/step\n",
      "Epoch 17/100\n",
      "2/2 - 0s - loss: 13.7345 - mae: 13.7345 - 0s/epoch - 0s/step\n",
      "Epoch 18/100\n",
      "2/2 - 0s - loss: 11.5807 - mae: 11.5807 - 16ms/epoch - 8ms/step\n",
      "Epoch 19/100\n",
      "2/2 - 0s - loss: 17.8234 - mae: 17.8234 - 0s/epoch - 0s/step\n",
      "Epoch 20/100\n",
      "2/2 - 0s - loss: 14.9588 - mae: 14.9588 - 0s/epoch - 0s/step\n",
      "Epoch 21/100\n",
      "2/2 - 0s - loss: 10.8495 - mae: 10.8495 - 0s/epoch - 0s/step\n",
      "Epoch 22/100\n",
      "2/2 - 0s - loss: 8.5993 - mae: 8.5993 - 0s/epoch - 0s/step\n",
      "Epoch 23/100\n",
      "2/2 - 0s - loss: 9.7520 - mae: 9.7520 - 1ms/epoch - 629us/step\n",
      "Epoch 24/100\n",
      "2/2 - 0s - loss: 10.9574 - mae: 10.9574 - 0s/epoch - 0s/step\n",
      "Epoch 25/100\n",
      "2/2 - 0s - loss: 9.1772 - mae: 9.1772 - 0s/epoch - 0s/step\n",
      "Epoch 26/100\n",
      "2/2 - 0s - loss: 13.1928 - mae: 13.1928 - 0s/epoch - 0s/step\n",
      "Epoch 27/100\n",
      "2/2 - 0s - loss: 10.6741 - mae: 10.6741 - 17ms/epoch - 8ms/step\n",
      "Epoch 28/100\n",
      "2/2 - 0s - loss: 12.8857 - mae: 12.8857 - 0s/epoch - 0s/step\n",
      "Epoch 29/100\n",
      "2/2 - 0s - loss: 9.5299 - mae: 9.5299 - 0s/epoch - 0s/step\n",
      "Epoch 30/100\n",
      "2/2 - 0s - loss: 16.3924 - mae: 16.3924 - 0s/epoch - 0s/step\n",
      "Epoch 31/100\n",
      "2/2 - 0s - loss: 23.6150 - mae: 23.6150 - 0s/epoch - 0s/step\n",
      "Epoch 32/100\n",
      "2/2 - 0s - loss: 7.6392 - mae: 7.6392 - 0s/epoch - 0s/step\n",
      "Epoch 33/100\n",
      "2/2 - 0s - loss: 9.3373 - mae: 9.3373 - 0s/epoch - 0s/step\n",
      "Epoch 34/100\n",
      "2/2 - 0s - loss: 13.7242 - mae: 13.7242 - 0s/epoch - 0s/step\n",
      "Epoch 35/100\n",
      "2/2 - 0s - loss: 11.1645 - mae: 11.1645 - 0s/epoch - 0s/step\n",
      "Epoch 36/100\n",
      "2/2 - 0s - loss: 13.3683 - mae: 13.3683 - 16ms/epoch - 8ms/step\n",
      "Epoch 37/100\n",
      "2/2 - 0s - loss: 9.4873 - mae: 9.4873 - 0s/epoch - 0s/step\n",
      "Epoch 38/100\n",
      "2/2 - 0s - loss: 10.1453 - mae: 10.1453 - 0s/epoch - 0s/step\n",
      "Epoch 39/100\n",
      "2/2 - 0s - loss: 10.2164 - mae: 10.2164 - 0s/epoch - 0s/step\n",
      "Epoch 40/100\n",
      "2/2 - 0s - loss: 10.9536 - mae: 10.9536 - 16ms/epoch - 8ms/step\n",
      "Epoch 41/100\n",
      "2/2 - 0s - loss: 7.9450 - mae: 7.9450 - 0s/epoch - 0s/step\n",
      "Epoch 42/100\n",
      "2/2 - 0s - loss: 10.1006 - mae: 10.1006 - 0s/epoch - 0s/step\n",
      "Epoch 43/100\n",
      "2/2 - 0s - loss: 8.7181 - mae: 8.7181 - 0s/epoch - 0s/step\n",
      "Epoch 44/100\n",
      "2/2 - 0s - loss: 12.1973 - mae: 12.1973 - 0s/epoch - 0s/step\n",
      "Epoch 45/100\n",
      "2/2 - 0s - loss: 13.8402 - mae: 13.8402 - 928us/epoch - 464us/step\n",
      "Epoch 46/100\n",
      "2/2 - 0s - loss: 8.5086 - mae: 8.5086 - 0s/epoch - 0s/step\n",
      "Epoch 47/100\n",
      "2/2 - 0s - loss: 9.1435 - mae: 9.1435 - 0s/epoch - 0s/step\n",
      "Epoch 48/100\n",
      "2/2 - 0s - loss: 10.6246 - mae: 10.6246 - 0s/epoch - 0s/step\n",
      "Epoch 49/100\n",
      "2/2 - 0s - loss: 7.7613 - mae: 7.7613 - 16ms/epoch - 8ms/step\n",
      "Epoch 50/100\n",
      "2/2 - 0s - loss: 9.5468 - mae: 9.5468 - 0s/epoch - 0s/step\n",
      "Epoch 51/100\n",
      "2/2 - 0s - loss: 9.1772 - mae: 9.1772 - 0s/epoch - 0s/step\n",
      "Epoch 52/100\n",
      "2/2 - 0s - loss: 16.3350 - mae: 16.3350 - 0s/epoch - 0s/step\n",
      "Epoch 53/100\n",
      "2/2 - 0s - loss: 14.1623 - mae: 14.1623 - 0s/epoch - 0s/step\n",
      "Epoch 54/100\n",
      "2/2 - 0s - loss: 21.1756 - mae: 21.1756 - 17ms/epoch - 8ms/step\n",
      "Epoch 55/100\n",
      "2/2 - 0s - loss: 16.3758 - mae: 16.3758 - 0s/epoch - 0s/step\n",
      "Epoch 56/100\n",
      "2/2 - 0s - loss: 10.0231 - mae: 10.0231 - 0s/epoch - 0s/step\n",
      "Epoch 57/100\n",
      "2/2 - 0s - loss: 9.9688 - mae: 9.9688 - 0s/epoch - 0s/step\n",
      "Epoch 58/100\n",
      "2/2 - 0s - loss: 9.2319 - mae: 9.2319 - 0s/epoch - 0s/step\n",
      "Epoch 59/100\n",
      "2/2 - 0s - loss: 8.4318 - mae: 8.4318 - 0s/epoch - 0s/step\n",
      "Epoch 60/100\n",
      "2/2 - 0s - loss: 9.5003 - mae: 9.5003 - 0s/epoch - 0s/step\n",
      "Epoch 61/100\n",
      "2/2 - 0s - loss: 11.4382 - mae: 11.4382 - 0s/epoch - 0s/step\n",
      "Epoch 62/100\n",
      "2/2 - 0s - loss: 11.7322 - mae: 11.7322 - 0s/epoch - 0s/step\n",
      "Epoch 63/100\n",
      "2/2 - 0s - loss: 7.1005 - mae: 7.1005 - 17ms/epoch - 8ms/step\n",
      "Epoch 64/100\n",
      "2/2 - 0s - loss: 17.0082 - mae: 17.0082 - 2ms/epoch - 1000us/step\n",
      "Epoch 65/100\n",
      "2/2 - 0s - loss: 12.4975 - mae: 12.4975 - 3ms/epoch - 2ms/step\n",
      "Epoch 66/100\n",
      "2/2 - 0s - loss: 13.0611 - mae: 13.0611 - 2ms/epoch - 1000us/step\n",
      "Epoch 67/100\n",
      "2/2 - 0s - loss: 8.0922 - mae: 8.0922 - 3ms/epoch - 2ms/step\n",
      "Epoch 68/100\n",
      "2/2 - 0s - loss: 10.2246 - mae: 10.2246 - 3ms/epoch - 2ms/step\n",
      "Epoch 69/100\n",
      "2/2 - 0s - loss: 12.4084 - mae: 12.4084 - 2ms/epoch - 1000us/step\n",
      "Epoch 70/100\n",
      "2/2 - 0s - loss: 9.0632 - mae: 9.0632 - 2ms/epoch - 996us/step\n",
      "Epoch 71/100\n",
      "2/2 - 0s - loss: 10.0473 - mae: 10.0473 - 1ms/epoch - 530us/step\n",
      "Epoch 72/100\n",
      "2/2 - 0s - loss: 10.0641 - mae: 10.0641 - 6ms/epoch - 3ms/step\n",
      "Epoch 73/100\n",
      "2/2 - 0s - loss: 12.6129 - mae: 12.6129 - 1ms/epoch - 656us/step\n",
      "Epoch 74/100\n",
      "2/2 - 0s - loss: 10.4278 - mae: 10.4278 - 0s/epoch - 0s/step\n",
      "Epoch 75/100\n",
      "2/2 - 0s - loss: 9.7331 - mae: 9.7331 - 0s/epoch - 0s/step\n",
      "Epoch 76/100\n",
      "2/2 - 0s - loss: 11.2319 - mae: 11.2319 - 0s/epoch - 0s/step\n",
      "Epoch 77/100\n",
      "2/2 - 0s - loss: 8.3742 - mae: 8.3742 - 3ms/epoch - 1ms/step\n",
      "Epoch 78/100\n",
      "2/2 - 0s - loss: 9.1302 - mae: 9.1302 - 0s/epoch - 0s/step\n",
      "Epoch 79/100\n",
      "2/2 - 0s - loss: 19.5538 - mae: 19.5538 - 0s/epoch - 0s/step\n",
      "Epoch 80/100\n",
      "2/2 - 0s - loss: 14.8791 - mae: 14.8791 - 0s/epoch - 0s/step\n",
      "Epoch 81/100\n",
      "2/2 - 0s - loss: 9.0526 - mae: 9.0526 - 15ms/epoch - 7ms/step\n",
      "Epoch 82/100\n",
      "2/2 - 0s - loss: 13.0122 - mae: 13.0122 - 0s/epoch - 0s/step\n",
      "Epoch 83/100\n",
      "2/2 - 0s - loss: 7.9363 - mae: 7.9363 - 0s/epoch - 0s/step\n",
      "Epoch 84/100\n",
      "2/2 - 0s - loss: 7.7174 - mae: 7.7174 - 0s/epoch - 0s/step\n",
      "Epoch 85/100\n",
      "2/2 - 0s - loss: 10.0707 - mae: 10.0707 - 0s/epoch - 0s/step\n",
      "Epoch 86/100\n",
      "2/2 - 0s - loss: 9.2758 - mae: 9.2758 - 1ms/epoch - 654us/step\n",
      "Epoch 87/100\n",
      "2/2 - 0s - loss: 12.0582 - mae: 12.0582 - 0s/epoch - 0s/step\n",
      "Epoch 88/100\n",
      "2/2 - 0s - loss: 10.6793 - mae: 10.6793 - 0s/epoch - 0s/step\n",
      "Epoch 89/100\n",
      "2/2 - 0s - loss: 7.2919 - mae: 7.2919 - 0s/epoch - 0s/step\n",
      "Epoch 90/100\n",
      "2/2 - 0s - loss: 12.8211 - mae: 12.8211 - 16ms/epoch - 8ms/step\n",
      "Epoch 91/100\n",
      "2/2 - 0s - loss: 7.5024 - mae: 7.5024 - 0s/epoch - 0s/step\n",
      "Epoch 92/100\n",
      "2/2 - 0s - loss: 6.7771 - mae: 6.7771 - 0s/epoch - 0s/step\n",
      "Epoch 93/100\n",
      "2/2 - 0s - loss: 11.9719 - mae: 11.9719 - 0s/epoch - 0s/step\n",
      "Epoch 94/100\n",
      "2/2 - 0s - loss: 8.9053 - mae: 8.9053 - 15ms/epoch - 7ms/step\n",
      "Epoch 95/100\n",
      "2/2 - 0s - loss: 7.7462 - mae: 7.7462 - 1ms/epoch - 541us/step\n",
      "Epoch 96/100\n",
      "2/2 - 0s - loss: 6.7748 - mae: 6.7748 - 0s/epoch - 0s/step\n",
      "Epoch 97/100\n",
      "2/2 - 0s - loss: 8.6572 - mae: 8.6572 - 0s/epoch - 0s/step\n",
      "Epoch 98/100\n",
      "2/2 - 0s - loss: 9.4155 - mae: 9.4155 - 0s/epoch - 0s/step\n",
      "Epoch 99/100\n",
      "2/2 - 0s - loss: 9.1509 - mae: 9.1509 - 2ms/epoch - 1ms/step\n",
      "Epoch 100/100\n",
      "2/2 - 0s - loss: 10.5078 - mae: 10.5078 - 0s/epoch - 0s/step\n"
     ]
    },
    {
     "data": {
      "text/plain": [
       "<keras.src.callbacks.History at 0x1e24e055400>"
      ]
     },
     "execution_count": 32,
     "metadata": {},
     "output_type": "execute_result"
    }
   ],
   "source": [
    "# Set random seed\n",
    "tf.random.set_seed(42)\n",
    "\n",
    "# Create a model (same as above)\n",
    "model1 = tf.keras.Sequential([\n",
    "  tf.keras.layers.Dense(1, input_shape=[1]) # define the input_shape to our model\n",
    "])\n",
    "\n",
    "# Compile model (same as above)\n",
    "model1.compile(loss=tf.keras.losses.mae,\n",
    "              optimizer=tf.keras.optimizers.SGD(),\n",
    "              metrics=[\"mae\"])\n",
    "\n",
    "# Fit the model to the training data\n",
    "model1.fit(X_train, y_train, epochs=100, verbose=2) # verbose controls how much gets output"
   ]
  },
  {
   "cell_type": "code",
   "execution_count": 33,
   "metadata": {},
   "outputs": [
    {
     "name": "stdout",
     "output_type": "stream",
     "text": [
      "1/1 [==============================] - 0s 36ms/step\n"
     ]
    },
    {
     "data": {
      "image/png": "[encoded data removed]",
      "text/plain": [
       "<Figure size 1000x700 with 1 Axes>"
      ]
     },
     "metadata": {},
     "output_type": "display_data"
    }
   ],
   "source": [
    "# Make and plot predictions for model_1\n",
    "y_preds_1 = model1.predict(X_test)\n",
    "plot_predictions(predictions=y_preds_1)"
   ]
  },
  {
   "cell_type": "code",
   "execution_count": 34,
   "metadata": {},
   "outputs": [
    {
     "data": {
      "text/plain": [
       "(<tf.Tensor: shape=(), dtype=float32, numpy=14.973694>,\n",
       " <tf.Tensor: shape=(), dtype=float32, numpy=225.05594>)"
      ]
     },
     "execution_count": 34,
     "metadata": {},
     "output_type": "execute_result"
    }
   ],
   "source": [
    "# Calculate model_1 metrics\n",
    "mae_1 = mae(y_test, y_preds_1.squeeze())\n",
    "mse_1 = mse(y_test, y_preds_1.squeeze())\n",
    "mae_1, mse_1"
   ]
  },
  {
   "cell_type": "markdown",
   "metadata": {},
   "source": [
    "**Build `model_2`**\n",
    "\n",
    "This time we'll add an extra dense layer (so now our model will have 2 layers) whilst keeping everything else the same."
   ]
  },
  {
   "cell_type": "code",
   "execution_count": 35,
   "metadata": {},
   "outputs": [
    {
     "name": "stdout",
     "output_type": "stream",
     "text": [
      "Epoch 1/100\n",
      "2/2 - 0s - loss: 11.6904 - mae: 11.6904 - 215ms/epoch - 107ms/step\n",
      "Epoch 2/100\n",
      "2/2 - 0s - loss: 14.1741 - mae: 14.1741 - 0s/epoch - 0s/step\n",
      "Epoch 3/100\n",
      "2/2 - 0s - loss: 25.5849 - mae: 25.5849 - 0s/epoch - 0s/step\n",
      "Epoch 4/100\n",
      "2/2 - 0s - loss: 13.1361 - mae: 13.1361 - 0s/epoch - 0s/step\n",
      "Epoch 5/100\n",
      "2/2 - 0s - loss: 14.4898 - mae: 14.4898 - 16ms/epoch - 8ms/step\n",
      "Epoch 6/100\n",
      "2/2 - 0s - loss: 11.5655 - mae: 11.5655 - 0s/epoch - 0s/step\n",
      "Epoch 7/100\n",
      "2/2 - 0s - loss: 12.6201 - mae: 12.6201 - 0s/epoch - 0s/step\n",
      "Epoch 8/100\n",
      "2/2 - 0s - loss: 11.0264 - mae: 11.0264 - 0s/epoch - 0s/step\n",
      "Epoch 9/100\n",
      "2/2 - 0s - loss: 39.5730 - mae: 39.5730 - 16ms/epoch - 8ms/step\n",
      "Epoch 10/100\n",
      "2/2 - 0s - loss: 27.0788 - mae: 27.0788 - 0s/epoch - 0s/step\n",
      "Epoch 11/100\n",
      "2/2 - 0s - loss: 11.0331 - mae: 11.0331 - 0s/epoch - 0s/step\n",
      "Epoch 12/100\n",
      "2/2 - 0s - loss: 24.4545 - mae: 24.4545 - 0s/epoch - 0s/step\n",
      "Epoch 13/100\n",
      "2/2 - 0s - loss: 19.2123 - mae: 19.2123 - 0s/epoch - 0s/step\n",
      "Epoch 14/100\n",
      "2/2 - 0s - loss: 23.4147 - mae: 23.4147 - 0s/epoch - 0s/step\n",
      "Epoch 15/100\n",
      "2/2 - 0s - loss: 15.2260 - mae: 15.2260 - 0s/epoch - 0s/step\n",
      "Epoch 16/100\n",
      "2/2 - 0s - loss: 11.3392 - mae: 11.3392 - 0s/epoch - 0s/step\n",
      "Epoch 17/100\n",
      "2/2 - 0s - loss: 23.1405 - mae: 23.1405 - 0s/epoch - 0s/step\n",
      "Epoch 18/100\n",
      "2/2 - 0s - loss: 11.7549 - mae: 11.7549 - 0s/epoch - 0s/step\n",
      "Epoch 19/100\n",
      "2/2 - 0s - loss: 16.4245 - mae: 16.4245 - 0s/epoch - 0s/step\n",
      "Epoch 20/100\n",
      "2/2 - 0s - loss: 8.2425 - mae: 8.2425 - 0s/epoch - 0s/step\n",
      "Epoch 21/100\n",
      "2/2 - 0s - loss: 14.4430 - mae: 14.4430 - 0s/epoch - 0s/step\n",
      "Epoch 22/100\n",
      "2/2 - 0s - loss: 12.8627 - mae: 12.8627 - 16ms/epoch - 8ms/step\n",
      "Epoch 23/100\n",
      "2/2 - 0s - loss: 15.4955 - mae: 15.4955 - 0s/epoch - 0s/step\n",
      "Epoch 24/100\n",
      "2/2 - 0s - loss: 15.2882 - mae: 15.2882 - 0s/epoch - 0s/step\n",
      "Epoch 25/100\n",
      "2/2 - 0s - loss: 14.3528 - mae: 14.3528 - 0s/epoch - 0s/step\n",
      "Epoch 26/100\n",
      "2/2 - 0s - loss: 19.3754 - mae: 19.3754 - 16ms/epoch - 8ms/step\n",
      "Epoch 27/100\n",
      "2/2 - 0s - loss: 11.4337 - mae: 11.4337 - 0s/epoch - 0s/step\n",
      "Epoch 28/100\n",
      "2/2 - 0s - loss: 28.9908 - mae: 28.9908 - 0s/epoch - 0s/step\n",
      "Epoch 29/100\n",
      "2/2 - 0s - loss: 9.2481 - mae: 9.2481 - 0s/epoch - 0s/step\n",
      "Epoch 30/100\n",
      "2/2 - 0s - loss: 29.7463 - mae: 29.7463 - 16ms/epoch - 8ms/step\n",
      "Epoch 31/100\n",
      "2/2 - 0s - loss: 53.9621 - mae: 53.9621 - 0s/epoch - 0s/step\n",
      "Epoch 32/100\n",
      "2/2 - 0s - loss: 9.5447 - mae: 9.5447 - 0s/epoch - 0s/step\n",
      "Epoch 33/100\n",
      "2/2 - 0s - loss: 12.1323 - mae: 12.1323 - 0s/epoch - 0s/step\n",
      "Epoch 34/100\n",
      "2/2 - 0s - loss: 23.7802 - mae: 23.7802 - 16ms/epoch - 8ms/step\n",
      "Epoch 35/100\n",
      "2/2 - 0s - loss: 12.6376 - mae: 12.6376 - 0s/epoch - 0s/step\n",
      "Epoch 36/100\n",
      "2/2 - 0s - loss: 21.5791 - mae: 21.5791 - 0s/epoch - 0s/step\n",
      "Epoch 37/100\n",
      "2/2 - 0s - loss: 11.3335 - mae: 11.3335 - 0s/epoch - 0s/step\n",
      "Epoch 38/100\n",
      "2/2 - 0s - loss: 13.3876 - mae: 13.3876 - 0s/epoch - 0s/step\n",
      "Epoch 39/100\n",
      "2/2 - 0s - loss: 10.7495 - mae: 10.7495 - 0s/epoch - 0s/step\n",
      "Epoch 40/100\n",
      "2/2 - 0s - loss: 16.4833 - mae: 16.4833 - 0s/epoch - 0s/step\n",
      "Epoch 41/100\n",
      "2/2 - 0s - loss: 10.9110 - mae: 10.9110 - 0s/epoch - 0s/step\n",
      "Epoch 42/100\n",
      "2/2 - 0s - loss: 9.2508 - mae: 9.2508 - 0s/epoch - 0s/step\n",
      "Epoch 43/100\n",
      "2/2 - 0s - loss: 9.5754 - mae: 9.5754 - 16ms/epoch - 8ms/step\n",
      "Epoch 44/100\n",
      "2/2 - 0s - loss: 27.8028 - mae: 27.8028 - 0s/epoch - 0s/step\n",
      "Epoch 45/100\n",
      "2/2 - 0s - loss: 11.2297 - mae: 11.2297 - 0s/epoch - 0s/step\n",
      "Epoch 46/100\n",
      "2/2 - 0s - loss: 13.7875 - mae: 13.7875 - 0s/epoch - 0s/step\n",
      "Epoch 47/100\n",
      "2/2 - 0s - loss: 11.9449 - mae: 11.9449 - 16ms/epoch - 8ms/step\n",
      "Epoch 48/100\n",
      "2/2 - 0s - loss: 16.9971 - mae: 16.9971 - 0s/epoch - 0s/step\n",
      "Epoch 49/100\n",
      "2/2 - 0s - loss: 9.7416 - mae: 9.7416 - 0s/epoch - 0s/step\n",
      "Epoch 50/100\n",
      "2/2 - 0s - loss: 14.1091 - mae: 14.1091 - 0s/epoch - 0s/step\n",
      "Epoch 51/100\n",
      "2/2 - 0s - loss: 11.7118 - mae: 11.7118 - 16ms/epoch - 8ms/step\n",
      "Epoch 52/100\n",
      "2/2 - 0s - loss: 31.2390 - mae: 31.2390 - 0s/epoch - 0s/step\n",
      "Epoch 53/100\n",
      "2/2 - 0s - loss: 14.6593 - mae: 14.6593 - 0s/epoch - 0s/step\n",
      "Epoch 54/100\n",
      "2/2 - 0s - loss: 24.5000 - mae: 24.5000 - 0s/epoch - 0s/step\n",
      "Epoch 55/100\n",
      "2/2 - 0s - loss: 23.7714 - mae: 23.7714 - 0s/epoch - 0s/step\n",
      "Epoch 56/100\n",
      "2/2 - 0s - loss: 11.0761 - mae: 11.0761 - 0s/epoch - 0s/step\n",
      "Epoch 57/100\n",
      "2/2 - 0s - loss: 12.9983 - mae: 12.9983 - 0s/epoch - 0s/step\n",
      "Epoch 58/100\n",
      "2/2 - 0s - loss: 9.7431 - mae: 9.7431 - 0s/epoch - 0s/step\n",
      "Epoch 59/100\n",
      "2/2 - 0s - loss: 13.1676 - mae: 13.1676 - 14ms/epoch - 7ms/step\n",
      "Epoch 60/100\n",
      "2/2 - 0s - loss: 10.7884 - mae: 10.7884 - 0s/epoch - 0s/step\n",
      "Epoch 61/100\n",
      "2/2 - 0s - loss: 13.3520 - mae: 13.3520 - 0s/epoch - 0s/step\n",
      "Epoch 62/100\n",
      "2/2 - 0s - loss: 17.2668 - mae: 17.2668 - 0s/epoch - 0s/step\n",
      "Epoch 63/100\n",
      "2/2 - 0s - loss: 9.1067 - mae: 9.1067 - 14ms/epoch - 7ms/step\n",
      "Epoch 64/100\n",
      "2/2 - 0s - loss: 17.8907 - mae: 17.8907 - 1ms/epoch - 685us/step\n",
      "Epoch 65/100\n",
      "2/2 - 0s - loss: 10.5869 - mae: 10.5869 - 0s/epoch - 0s/step\n",
      "Epoch 66/100\n",
      "2/2 - 0s - loss: 21.3946 - mae: 21.3946 - 0s/epoch - 0s/step\n",
      "Epoch 67/100\n",
      "2/2 - 0s - loss: 10.5915 - mae: 10.5915 - 0s/epoch - 0s/step\n",
      "Epoch 68/100\n",
      "2/2 - 0s - loss: 14.7949 - mae: 14.7949 - 2ms/epoch - 921us/step\n",
      "Epoch 69/100\n",
      "2/2 - 0s - loss: 10.7302 - mae: 10.7302 - 0s/epoch - 0s/step\n",
      "Epoch 70/100\n",
      "2/2 - 0s - loss: 12.8255 - mae: 12.8255 - 0s/epoch - 0s/step\n",
      "Epoch 71/100\n",
      "2/2 - 0s - loss: 13.2465 - mae: 13.2465 - 0s/epoch - 0s/step\n",
      "Epoch 72/100\n",
      "2/2 - 0s - loss: 19.8614 - mae: 19.8614 - 16ms/epoch - 8ms/step\n",
      "Epoch 73/100\n",
      "2/2 - 0s - loss: 11.2681 - mae: 11.2681 - 0s/epoch - 0s/step\n",
      "Epoch 74/100\n",
      "2/2 - 0s - loss: 22.1568 - mae: 22.1568 - 0s/epoch - 0s/step\n",
      "Epoch 75/100\n",
      "2/2 - 0s - loss: 6.9450 - mae: 6.9450 - 0s/epoch - 0s/step\n",
      "Epoch 76/100\n",
      "2/2 - 0s - loss: 11.4227 - mae: 11.4227 - 0s/epoch - 0s/step\n",
      "Epoch 77/100\n",
      "2/2 - 0s - loss: 21.5675 - mae: 21.5675 - 3ms/epoch - 1ms/step\n",
      "Epoch 78/100\n",
      "2/2 - 0s - loss: 18.6336 - mae: 18.6336 - 0s/epoch - 0s/step\n",
      "Epoch 79/100\n",
      "2/2 - 0s - loss: 15.9532 - mae: 15.9532 - 0s/epoch - 0s/step\n",
      "Epoch 80/100\n",
      "2/2 - 0s - loss: 23.5837 - mae: 23.5837 - 0s/epoch - 0s/step\n",
      "Epoch 81/100\n",
      "2/2 - 0s - loss: 10.9781 - mae: 10.9781 - 14ms/epoch - 7ms/step\n",
      "Epoch 82/100\n",
      "2/2 - 0s - loss: 12.7319 - mae: 12.7319 - 0s/epoch - 0s/step\n",
      "Epoch 83/100\n",
      "2/2 - 0s - loss: 17.5013 - mae: 17.5013 - 0s/epoch - 0s/step\n",
      "Epoch 84/100\n",
      "2/2 - 0s - loss: 7.2981 - mae: 7.2981 - 0s/epoch - 0s/step\n",
      "Epoch 85/100\n",
      "2/2 - 0s - loss: 15.0352 - mae: 15.0352 - 15ms/epoch - 7ms/step\n",
      "Epoch 86/100\n",
      "2/2 - 0s - loss: 15.3462 - mae: 15.3462 - 966us/epoch - 483us/step\n",
      "Epoch 87/100\n",
      "2/2 - 0s - loss: 19.2230 - mae: 19.2230 - 0s/epoch - 0s/step\n",
      "Epoch 88/100\n",
      "2/2 - 0s - loss: 29.5312 - mae: 29.5312 - 0s/epoch - 0s/step\n",
      "Epoch 89/100\n",
      "2/2 - 0s - loss: 10.1525 - mae: 10.1525 - 0s/epoch - 0s/step\n",
      "Epoch 90/100\n",
      "2/2 - 0s - loss: 21.2685 - mae: 21.2685 - 2ms/epoch - 984us/step\n",
      "Epoch 91/100\n",
      "2/2 - 0s - loss: 10.5287 - mae: 10.5287 - 0s/epoch - 0s/step\n",
      "Epoch 92/100\n",
      "2/2 - 0s - loss: 18.1565 - mae: 18.1565 - 0s/epoch - 0s/step\n",
      "Epoch 93/100\n",
      "2/2 - 0s - loss: 6.5588 - mae: 6.5588 - 0s/epoch - 0s/step\n",
      "Epoch 94/100\n",
      "2/2 - 0s - loss: 11.1803 - mae: 11.1803 - 16ms/epoch - 8ms/step\n",
      "Epoch 95/100\n",
      "2/2 - 0s - loss: 24.5674 - mae: 24.5674 - 0s/epoch - 0s/step\n",
      "Epoch 96/100\n",
      "2/2 - 0s - loss: 10.7867 - mae: 10.7867 - 0s/epoch - 0s/step\n",
      "Epoch 97/100\n",
      "2/2 - 0s - loss: 15.4851 - mae: 15.4851 - 0s/epoch - 0s/step\n",
      "Epoch 98/100\n",
      "2/2 - 0s - loss: 9.0493 - mae: 9.0493 - 0s/epoch - 0s/step\n",
      "Epoch 99/100\n",
      "2/2 - 0s - loss: 10.8683 - mae: 10.8683 - 2ms/epoch - 925us/step\n",
      "Epoch 100/100\n",
      "2/2 - 0s - loss: 27.0455 - mae: 27.0455 - 0s/epoch - 0s/step\n"
     ]
    },
    {
     "data": {
      "text/plain": [
       "<keras.src.callbacks.History at 0x1e24e2f6c40>"
      ]
     },
     "execution_count": 35,
     "metadata": {},
     "output_type": "execute_result"
    }
   ],
   "source": [
    "# Set random seed\n",
    "tf.random.set_seed(42)\n",
    "\n",
    "# Replicate model_1 and add an extra layer\n",
    "model_2 = tf.keras.Sequential([\n",
    "  tf.keras.layers.Dense(1,input_shape=[1]),\n",
    "  tf.keras.layers.Dense(1,input_shape=[1]) # add a second layer\n",
    "])\n",
    "\n",
    "# Compile the model\n",
    "model_2.compile(loss=tf.keras.losses.mae,\n",
    "                optimizer=tf.keras.optimizers.SGD(),\n",
    "                metrics=['mae'])\n",
    "\n",
    "# Fit the model\n",
    "model_2.fit(X_train, y_train, epochs=100, verbose=2) # set verbose to 0 for less output"
   ]
  },
  {
   "cell_type": "code",
   "execution_count": 36,
   "metadata": {},
   "outputs": [
    {
     "name": "stdout",
     "output_type": "stream",
     "text": [
      "WARNING:tensorflow:5 out of the last 5 calls to <function Model.make_predict_function.<locals>.predict_function at 0x000001E24E244EE0> triggered tf.function retracing. Tracing is expensive and the excessive number of tracings could be due to (1) creating @tf.function repeatedly in a loop, (2) passing tensors with different shapes, (3) passing Python objects instead of tensors. For (1), please define your @tf.function outside of the loop. For (2), @tf.function has reduce_retracing=True option that can avoid unnecessary retracing. For (3), please refer to https://www.tensorflow.org/guide/function#controlling_retracing and https://www.tensorflow.org/api_docs/python/tf/function for  more details.\n",
      "1/1 [==============================] - 0s 34ms/step\n"
     ]
    },
    {
     "data": {
      "image/png": "[encoded data removed]",
      "text/plain": [
       "<Figure size 1000x700 with 1 Axes>"
      ]
     },
     "metadata": {},
     "output_type": "display_data"
    }
   ],
   "source": [
    "# Make and plot predictions for model_2\n",
    "y_preds_2 = model_2.predict(X_test)\n",
    "plot_predictions(predictions=y_preds_2)"
   ]
  },
  {
   "cell_type": "code",
   "execution_count": 37,
   "metadata": {},
   "outputs": [
    {
     "data": {
      "text/plain": [
       "(9.957552, 106.36589)"
      ]
     },
     "execution_count": 37,
     "metadata": {},
     "output_type": "execute_result"
    }
   ],
   "source": [
    "# Calculate model_2 metrics\n",
    "mae_2 = mae(y_test, y_preds_2.squeeze()).numpy()\n",
    "mse_2 = mse(y_test, y_preds_2.squeeze()).numpy()\n",
    "mae_2, mse_2"
   ]
  },
  {
   "cell_type": "markdown",
   "metadata": {},
   "source": [
    "**Build `model_3`**\n",
    "\n",
    "For our 3rd model, we'll keep everything the same as `model_2` except this time we'll train for longer (500 epochs instead of 100).\n",
    "\n",
    "This will give our model more of a chance to learn the patterns in the data."
   ]
  },
  {
   "cell_type": "code",
   "execution_count": 38,
   "metadata": {},
   "outputs": [
    {
     "data": {
      "text/plain": [
       "<keras.src.callbacks.History at 0x1e24f8cae50>"
      ]
     },
     "execution_count": 38,
     "metadata": {},
     "output_type": "execute_result"
    }
   ],
   "source": [
    "# Set random seed\n",
    "tf.random.set_seed(42)\n",
    "\n",
    "# Replicate model_2\n",
    "model_3 = tf.keras.Sequential([\n",
    "  tf.keras.layers.Dense(1),\n",
    "  tf.keras.layers.Dense(1)\n",
    "])\n",
    "\n",
    "# Compile the model\n",
    "model_3.compile(loss=tf.keras.losses.mae,\n",
    "                optimizer=tf.keras.optimizers.SGD(),\n",
    "                metrics=['mae'])\n",
    "\n",
    "# Fit the model (this time for 500 epochs, not 100)\n",
    "model_3.fit(tf.expand_dims(X_train, axis=-1), y_train, epochs=500, verbose=0) # set verbose to 0 for less output"
   ]
  },
  {
   "cell_type": "code",
   "execution_count": 39,
   "metadata": {},
   "outputs": [
    {
     "name": "stdout",
     "output_type": "stream",
     "text": [
      "WARNING:tensorflow:6 out of the last 6 calls to <function Model.make_predict_function.<locals>.predict_function at 0x000001E24E337940> triggered tf.function retracing. Tracing is expensive and the excessive number of tracings could be due to (1) creating @tf.function repeatedly in a loop, (2) passing tensors with different shapes, (3) passing Python objects instead of tensors. For (1), please define your @tf.function outside of the loop. For (2), @tf.function has reduce_retracing=True option that can avoid unnecessary retracing. For (3), please refer to https://www.tensorflow.org/guide/function#controlling_retracing and https://www.tensorflow.org/api_docs/python/tf/function for  more details.\n",
      "1/1 [==============================] - 0s 34ms/step\n"
     ]
    },
    {
     "data": {
      "image/png": "[encoded data removed]",
      "text/plain": [
       "<Figure size 1000x700 with 1 Axes>"
      ]
     },
     "metadata": {},
     "output_type": "display_data"
    }
   ],
   "source": [
    "# Make and plot predictions for model_3\n",
    "y_preds_3 = model_3.predict(X_test)\n",
    "plot_predictions(predictions=y_preds_3)"
   ]
  },
  {
   "cell_type": "markdown",
   "metadata": {},
   "source": [
    "Strange, we trained for longer but our model performed worse?\n",
    "\n",
    "As it turns out, our model might've trained too long and has thus resulted in worse results (we'll see ways to prevent training for too long later on)."
   ]
  },
  {
   "cell_type": "code",
   "execution_count": 40,
   "metadata": {},
   "outputs": [
    {
     "data": {
      "text/plain": [
       "(67.895164, 4694.1807)"
      ]
     },
     "execution_count": 40,
     "metadata": {},
     "output_type": "execute_result"
    }
   ],
   "source": [
    "# Calculate model_3 metrics\n",
    "mae_3 = mae(y_test, y_preds_3.squeeze()).numpy()\n",
    "mse_3 = mse(y_test, y_preds_3.squeeze()).numpy()\n",
    "mae_3, mse_3"
   ]
  },
  {
   "cell_type": "code",
   "execution_count": null,
   "metadata": {},
   "outputs": [],
   "source": []
  },
  {
   "cell_type": "code",
   "execution_count": null,
   "metadata": {},
   "outputs": [],
   "source": []
  }
 ],
 "metadata": {
  "kernelspec": {
   "display_name": "tf",
   "language": "python",
   "name": "python3"
  },
  "language_info": {
   "codemirror_mode": {
    "name": "ipython",
    "version": 3
   },
   "file_extension": ".py",
   "mimetype": "text/x-python",
   "name": "python",
   "nbconvert_exporter": "python",
   "pygments_lexer": "ipython3",
   "version": "3.9.17"
  }
 },
 "nbformat": 4,
 "nbformat_minor": 2
}
