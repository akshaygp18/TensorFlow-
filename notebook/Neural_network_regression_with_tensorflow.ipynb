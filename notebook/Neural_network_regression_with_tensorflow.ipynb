{
 "cells": [
  {
   "cell_type": "markdown",
   "metadata": {},
   "source": [
    "### Introduction to Neural Networks in Tensorflow"
   ]
  },
  {
   "cell_type": "code",
   "execution_count": 1,
   "metadata": {},
   "outputs": [
    {
     "name": "stdout",
     "output_type": "stream",
     "text": [
      "2.13.0\n"
     ]
    }
   ],
   "source": [
    "# Import tensorflow\n",
    "import tensorflow as tf\n",
    "print(tf.__version__)\n"
   ]
  },
  {
   "cell_type": "markdown",
   "metadata": {},
   "source": [
    "### Creating data to view and fit"
   ]
  },
  {
   "cell_type": "code",
   "execution_count": 2,
   "metadata": {},
   "outputs": [
    {
     "data": {
      "text/plain": [
       "<matplotlib.collections.PathCollection at 0x2a9247720d0>"
      ]
     },
     "execution_count": 2,
     "metadata": {},
     "output_type": "execute_result"
    },
    {
     "data": {
      "image/png": "[encoded data removed]",
      "text/plain": [
       "<Figure size 640x480 with 1 Axes>"
      ]
     },
     "metadata": {},
     "output_type": "display_data"
    }
   ],
   "source": [
    "import numpy as np\n",
    "import matplotlib.pyplot as plt\n",
    "\n",
    "# Create features\n",
    "X = np.array([-1.0,-3.0,-1.0,5,6,4,6,2])\n",
    "\n",
    "# Create labels\n",
    "y = np.array([-1.0,-3.0,-1.0,5,6,4,6,2])\n",
    "\n",
    "# Visualize it\n",
    "plt.scatter(X, y)"
   ]
  },
  {
   "cell_type": "markdown",
   "metadata": {},
   "source": [
    "### Input and output shapes"
   ]
  },
  {
   "cell_type": "code",
   "execution_count": 3,
   "metadata": {},
   "outputs": [
    {
     "data": {
      "text/plain": [
       "(<tf.Tensor: shape=(3,), dtype=string, numpy=array([b'bedroom', b'bathroom', b'garage'], dtype=object)>,\n",
       " <tf.Tensor: shape=(1,), dtype=int32, numpy=array([939700])>)"
      ]
     },
     "execution_count": 3,
     "metadata": {},
     "output_type": "execute_result"
    }
   ],
   "source": [
    "# Create a demo tensor for our housing price prediction problem\n",
    "house_info = tf.constant([\"bedroom\",\"bathroom\",\"garage\"])\n",
    "house_price = tf.constant([939700])\n",
    "house_info,house_price"
   ]
  },
  {
   "cell_type": "code",
   "execution_count": 4,
   "metadata": {},
   "outputs": [
    {
     "data": {
      "text/plain": [
       "(<tf.Tensor: shape=(8,), dtype=float64, numpy=array([-1., -3., -1.,  5.,  6.,  4.,  6.,  2.])>,\n",
       " <tf.Tensor: shape=(8,), dtype=float64, numpy=array([-1., -3., -1.,  5.,  6.,  4.,  6.,  2.])>)"
      ]
     },
     "execution_count": 4,
     "metadata": {},
     "output_type": "execute_result"
    }
   ],
   "source": [
    " # Turn our numpy arrays into tensors\n",
    "X = tf.constant(X)\n",
    "y = tf.constant(y)\n",
    "X,y"
   ]
  },
  {
   "cell_type": "code",
   "execution_count": 5,
   "metadata": {},
   "outputs": [
    {
     "data": {
      "text/plain": [
       "<matplotlib.collections.PathCollection at 0x2a923265a30>"
      ]
     },
     "execution_count": 5,
     "metadata": {},
     "output_type": "execute_result"
    },
    {
     "data": {
      "image/png": "[encoded data removed]",
      "text/plain": [
       "<Figure size 640x480 with 1 Axes>"
      ]
     },
     "metadata": {},
     "output_type": "display_data"
    }
   ],
   "source": [
    "plt.scatter(X, y)"
   ]
  },
  {
   "cell_type": "markdown",
   "metadata": {},
   "source": [
    "### Steps in modelling with TensorFlow\n",
    "1. **Creating a model** - define the input and output layers, as well as the hidden layers of a deep learning model.\n",
    "2. **Compiling a model** - define the loss function (in other words, the function which tells our model how wrong it is) and the optimizer (tells our model how to improve the patterns its learning) and evaluation metrics (what we can use to interpret the performance of our model).\n",
    "3. **Fitting a model** -letting the model try to find patterns between X and y (features and labels)"
   ]
  },
  {
   "cell_type": "code",
   "execution_count": 6,
   "metadata": {},
   "outputs": [
    {
     "name": "stdout",
     "output_type": "stream",
     "text": [
      "Epoch 1/5\n",
      "1/1 [==============================] - 0s 219ms/step - loss: 7.8222 - mae: 7.8222\n",
      "Epoch 2/5\n",
      "1/1 [==============================] - 0s 3ms/step - loss: 7.6991 - mae: 7.6991\n",
      "Epoch 3/5\n",
      "1/1 [==============================] - 0s 2ms/step - loss: 7.5760 - mae: 7.5760\n",
      "Epoch 4/5\n",
      "1/1 [==============================] - 0s 3ms/step - loss: 7.4528 - mae: 7.4528\n",
      "Epoch 5/5\n",
      "1/1 [==============================] - 0s 3ms/step - loss: 7.3297 - mae: 7.3297\n"
     ]
    },
    {
     "data": {
      "text/plain": [
       "<keras.src.callbacks.History at 0x2a9279e7730>"
      ]
     },
     "execution_count": 6,
     "metadata": {},
     "output_type": "execute_result"
    }
   ],
   "source": [
    "# set random seed\n",
    "tf.random.set_seed(42)\n",
    "\n",
    "# 1. Create a model using the Sequential API\n",
    "model = tf.keras.Sequential([tf.keras.layers.Dense(1)])\n",
    "\n",
    "# 2. Compile the model \n",
    "model.compile(loss=tf.keras.losses.mae, # mae isshort for mean absolute error\n",
    "              optimizer = tf.keras.optimizers.SGD(), # SGD is short for stochastic gradient descent\n",
    "            metrics=[\"mae\"])\n",
    "\n",
    "# 3. Fit the model\n",
    "model.fit(tf.expand_dims(X, axis=-1), y, epochs=5)"
   ]
  },
  {
   "cell_type": "code",
   "execution_count": 7,
   "metadata": {},
   "outputs": [
    {
     "name": "stdout",
     "output_type": "stream",
     "text": [
      "1/1 [==============================] - 0s 64ms/step\n"
     ]
    },
    {
     "data": {
      "text/plain": [
       "array([[-18.006136]], dtype=float32)"
      ]
     },
     "execution_count": 7,
     "metadata": {},
     "output_type": "execute_result"
    }
   ],
   "source": [
    "# Try and make a prediction using our model\n",
    "y_pred = model.predict([17.0])\n",
    "y_pred"
   ]
  },
  {
   "cell_type": "markdown",
   "metadata": {},
   "source": [
    "🤔 Question: What's Keras? I thought we were working with TensorFlow but every time we write TensorFlow code, keras comes after tf (e.g. tf.keras.layers.Dense())?\n",
    "\n",
    "Before TensorFlow 2.0+, Keras was an API designed to be able to build deep learning models with ease. Since TensorFlow 2.0+, its functionality has been tightly integrated within the TensorFlow library."
   ]
  },
  {
   "cell_type": "markdown",
   "metadata": {},
   "source": [
    "### Improving our model\n",
    "How do you think you'd improve upon our current model?\n",
    "\n",
    "If you guessed by tweaking some of the things we did above, you'd be correct.\n",
    "\n",
    "To improve our model, we alter almost every part of the 3 steps we went through before.\n",
    "\n",
    "1. **Creating a model** - here you might want to add more layers, increase the number of hidden units (also called neurons) within each layer, change the activation functions of each layer.\n",
    "2. **Compiling a model** - you might want to choose optimization function or perhaps change the **learning rate** of the optimization function.\n",
    "3. **Fitting a model** - perhaps you could fit a model for more **epochs** (leave it training for longer) or on more data (give the model more examples to learn from).\n",
    "\n",
    "![various options you can use to improve a neural network model](https://raw.githubusercontent.com/mrdbourke/tensorflow-deep-learning/main/images/02-improving-a-model-from-model-perspective.png)\n",
    "*There are many different ways to potentially improve a neural network. Some of the most common include: increasing the number of layers (making the network deeper), increasing the number of hidden units (making the network wider) and changing the learning rate. Because these values are all human-changeable, they're referred to as [hyperparameters](https://en.wikipedia.org/wiki/Hyperparameter_(machine_learning)) and the practice of trying to find the best hyperparameters is referred to as [hyperparameter tuning](https://en.wikipedia.org/wiki/Hyperparameter_optimization).*\n",
    "\n",
    "Woah. We just introduced a bunch of possible steps. The important thing to remember is how you alter each of these will depend on the problem you're working on.\n",
    "\n",
    "And the good thing is, over the next few problems, we'll get hands-on with all of them.\n",
    "\n",
    "For now, let's keep it simple, all we'll do is train our model for longer (everything else will stay the same)."
   ]
  },
  {
   "cell_type": "code",
   "execution_count": 8,
   "metadata": {},
   "outputs": [
    {
     "name": "stdout",
     "output_type": "stream",
     "text": [
      "Epoch 1/100\n",
      "1/1 [==============================] - 0s 187ms/step - loss: 7.9134 - mae: 7.9134\n",
      "Epoch 2/100\n",
      "1/1 [==============================] - 0s 3ms/step - loss: 7.7903 - mae: 7.7903\n",
      "Epoch 3/100\n",
      "1/1 [==============================] - 0s 3ms/step - loss: 7.6672 - mae: 7.6672\n",
      "Epoch 4/100\n",
      "1/1 [==============================] - 0s 3ms/step - loss: 7.5441 - mae: 7.5441\n",
      "Epoch 5/100\n",
      "1/1 [==============================] - 0s 3ms/step - loss: 7.4209 - mae: 7.4209\n",
      "Epoch 6/100\n",
      "1/1 [==============================] - 0s 4ms/step - loss: 7.2978 - mae: 7.2978\n",
      "Epoch 7/100\n",
      "1/1 [==============================] - 0s 4ms/step - loss: 7.1747 - mae: 7.1747\n",
      "Epoch 8/100\n",
      "1/1 [==============================] - 0s 3ms/step - loss: 7.0516 - mae: 7.0516\n",
      "Epoch 9/100\n",
      "1/1 [==============================] - 0s 3ms/step - loss: 6.9284 - mae: 6.9284\n",
      "Epoch 10/100\n",
      "1/1 [==============================] - 0s 3ms/step - loss: 6.8053 - mae: 6.8053\n",
      "Epoch 11/100\n",
      "1/1 [==============================] - 0s 3ms/step - loss: 6.6822 - mae: 6.6822\n",
      "Epoch 12/100\n",
      "1/1 [==============================] - 0s 2ms/step - loss: 6.5591 - mae: 6.5591\n",
      "Epoch 13/100\n",
      "1/1 [==============================] - 0s 2ms/step - loss: 6.4359 - mae: 6.4359\n",
      "Epoch 14/100\n",
      "1/1 [==============================] - 0s 2ms/step - loss: 6.3128 - mae: 6.3128\n",
      "Epoch 15/100\n",
      "1/1 [==============================] - 0s 2ms/step - loss: 6.1897 - mae: 6.1897\n",
      "Epoch 16/100\n",
      "1/1 [==============================] - 0s 3ms/step - loss: 6.0666 - mae: 6.0666\n",
      "Epoch 17/100\n",
      "1/1 [==============================] - 0s 2ms/step - loss: 5.9434 - mae: 5.9434\n",
      "Epoch 18/100\n",
      "1/1 [==============================] - 0s 2ms/step - loss: 5.8203 - mae: 5.8203\n",
      "Epoch 19/100\n",
      "1/1 [==============================] - 0s 3ms/step - loss: 5.6972 - mae: 5.6972\n",
      "Epoch 20/100\n",
      "1/1 [==============================] - 0s 3ms/step - loss: 5.5741 - mae: 5.5741\n",
      "Epoch 21/100\n",
      "1/1 [==============================] - 0s 2ms/step - loss: 5.4509 - mae: 5.4509\n",
      "Epoch 22/100\n",
      "1/1 [==============================] - 0s 2ms/step - loss: 5.3278 - mae: 5.3278\n",
      "Epoch 23/100\n",
      "1/1 [==============================] - 0s 2ms/step - loss: 5.2047 - mae: 5.2047\n",
      "Epoch 24/100\n",
      "1/1 [==============================] - 0s 3ms/step - loss: 5.0816 - mae: 5.0816\n",
      "Epoch 25/100\n",
      "1/1 [==============================] - 0s 3ms/step - loss: 4.9584 - mae: 4.9584\n",
      "Epoch 26/100\n",
      "1/1 [==============================] - 0s 2ms/step - loss: 4.8353 - mae: 4.8353\n",
      "Epoch 27/100\n",
      "1/1 [==============================] - 0s 3ms/step - loss: 4.7122 - mae: 4.7122\n",
      "Epoch 28/100\n",
      "1/1 [==============================] - 0s 2ms/step - loss: 4.5891 - mae: 4.5891\n",
      "Epoch 29/100\n",
      "1/1 [==============================] - 0s 2ms/step - loss: 4.4659 - mae: 4.4659\n",
      "Epoch 30/100\n",
      "1/1 [==============================] - 0s 3ms/step - loss: 4.3428 - mae: 4.3428\n",
      "Epoch 31/100\n",
      "1/1 [==============================] - 0s 4ms/step - loss: 4.2197 - mae: 4.2197\n",
      "Epoch 32/100\n",
      "1/1 [==============================] - 0s 2ms/step - loss: 4.0966 - mae: 4.0966\n",
      "Epoch 33/100\n",
      "1/1 [==============================] - 0s 2ms/step - loss: 3.9734 - mae: 3.9734\n",
      "Epoch 34/100\n",
      "1/1 [==============================] - 0s 3ms/step - loss: 3.8503 - mae: 3.8503\n",
      "Epoch 35/100\n",
      "1/1 [==============================] - 0s 3ms/step - loss: 3.7272 - mae: 3.7272\n",
      "Epoch 36/100\n",
      "1/1 [==============================] - 0s 2ms/step - loss: 3.6041 - mae: 3.6041\n",
      "Epoch 37/100\n",
      "1/1 [==============================] - 0s 2ms/step - loss: 3.4809 - mae: 3.4809\n",
      "Epoch 38/100\n",
      "1/1 [==============================] - 0s 3ms/step - loss: 3.3578 - mae: 3.3578\n",
      "Epoch 39/100\n",
      "1/1 [==============================] - 0s 2ms/step - loss: 3.2347 - mae: 3.2347\n",
      "Epoch 40/100\n",
      "1/1 [==============================] - 0s 2ms/step - loss: 3.1116 - mae: 3.1116\n",
      "Epoch 41/100\n",
      "1/1 [==============================] - 0s 2ms/step - loss: 2.9884 - mae: 2.9884\n",
      "Epoch 42/100\n",
      "1/1 [==============================] - 0s 3ms/step - loss: 2.8653 - mae: 2.8653\n",
      "Epoch 43/100\n",
      "1/1 [==============================] - 0s 2ms/step - loss: 2.7422 - mae: 2.7422\n",
      "Epoch 44/100\n",
      "1/1 [==============================] - 0s 3ms/step - loss: 2.6191 - mae: 2.6191\n",
      "Epoch 45/100\n",
      "1/1 [==============================] - 0s 3ms/step - loss: 2.4959 - mae: 2.4959\n",
      "Epoch 46/100\n",
      "1/1 [==============================] - 0s 3ms/step - loss: 2.3728 - mae: 2.3728\n",
      "Epoch 47/100\n",
      "1/1 [==============================] - 0s 2ms/step - loss: 2.2497 - mae: 2.2497\n",
      "Epoch 48/100\n",
      "1/1 [==============================] - 0s 3ms/step - loss: 2.1266 - mae: 2.1266\n",
      "Epoch 49/100\n",
      "1/1 [==============================] - 0s 3ms/step - loss: 2.0034 - mae: 2.0034\n",
      "Epoch 50/100\n",
      "1/1 [==============================] - 0s 3ms/step - loss: 1.8803 - mae: 1.8803\n",
      "Epoch 51/100\n",
      "1/1 [==============================] - 0s 2ms/step - loss: 1.7572 - mae: 1.7572\n",
      "Epoch 52/100\n",
      "1/1 [==============================] - 0s 2ms/step - loss: 1.6341 - mae: 1.6341\n",
      "Epoch 53/100\n",
      "1/1 [==============================] - 0s 3ms/step - loss: 1.5109 - mae: 1.5109\n",
      "Epoch 54/100\n",
      "1/1 [==============================] - 0s 2ms/step - loss: 1.3878 - mae: 1.3878\n",
      "Epoch 55/100\n",
      "1/1 [==============================] - 0s 3ms/step - loss: 1.2647 - mae: 1.2647\n",
      "Epoch 56/100\n",
      "1/1 [==============================] - 0s 2ms/step - loss: 1.1416 - mae: 1.1416\n",
      "Epoch 57/100\n",
      "1/1 [==============================] - 0s 3ms/step - loss: 1.0184 - mae: 1.0184\n",
      "Epoch 58/100\n",
      "1/1 [==============================] - 0s 2ms/step - loss: 0.8953 - mae: 0.8953\n",
      "Epoch 59/100\n",
      "1/1 [==============================] - 0s 2ms/step - loss: 0.7722 - mae: 0.7722\n",
      "Epoch 60/100\n",
      "1/1 [==============================] - 0s 3ms/step - loss: 0.6491 - mae: 0.6491\n",
      "Epoch 61/100\n",
      "1/1 [==============================] - 0s 3ms/step - loss: 0.5259 - mae: 0.5259\n",
      "Epoch 62/100\n",
      "1/1 [==============================] - 0s 3ms/step - loss: 0.4028 - mae: 0.4028\n",
      "Epoch 63/100\n",
      "1/1 [==============================] - 0s 3ms/step - loss: 0.2797 - mae: 0.2797\n",
      "Epoch 64/100\n",
      "1/1 [==============================] - 0s 3ms/step - loss: 0.1679 - mae: 0.1679\n",
      "Epoch 65/100\n",
      "1/1 [==============================] - 0s 2ms/step - loss: 0.0990 - mae: 0.0990\n",
      "Epoch 66/100\n",
      "1/1 [==============================] - 0s 3ms/step - loss: 0.1454 - mae: 0.1454\n",
      "Epoch 67/100\n",
      "1/1 [==============================] - 0s 3ms/step - loss: 0.1059 - mae: 0.1059\n",
      "Epoch 68/100\n",
      "1/1 [==============================] - 0s 2ms/step - loss: 0.1229 - mae: 0.1229\n",
      "Epoch 69/100\n",
      "1/1 [==============================] - 0s 2ms/step - loss: 0.1128 - mae: 0.1128\n",
      "Epoch 70/100\n",
      "1/1 [==============================] - 0s 3ms/step - loss: 0.1004 - mae: 0.1004\n",
      "Epoch 71/100\n",
      "1/1 [==============================] - 0s 2ms/step - loss: 0.1197 - mae: 0.1197\n",
      "Epoch 72/100\n",
      "1/1 [==============================] - 0s 3ms/step - loss: 0.0813 - mae: 0.0813\n",
      "Epoch 73/100\n",
      "1/1 [==============================] - 0s 3ms/step - loss: 0.1015 - mae: 0.1015\n",
      "Epoch 74/100\n",
      "1/1 [==============================] - 0s 2ms/step - loss: 0.0854 - mae: 0.0854\n",
      "Epoch 75/100\n",
      "1/1 [==============================] - 0s 2ms/step - loss: 0.1084 - mae: 0.1084\n",
      "Epoch 76/100\n",
      "1/1 [==============================] - 0s 3ms/step - loss: 0.0657 - mae: 0.0657\n",
      "Epoch 77/100\n",
      "1/1 [==============================] - 0s 3ms/step - loss: 0.0903 - mae: 0.0903\n",
      "Epoch 78/100\n",
      "1/1 [==============================] - 0s 3ms/step - loss: 0.0704 - mae: 0.0704\n",
      "Epoch 79/100\n",
      "1/1 [==============================] - 0s 3ms/step - loss: 0.0972 - mae: 0.0972\n",
      "Epoch 80/100\n",
      "1/1 [==============================] - 0s 2ms/step - loss: 0.0501 - mae: 0.0501\n",
      "Epoch 81/100\n",
      "1/1 [==============================] - 0s 3ms/step - loss: 0.0790 - mae: 0.0790\n",
      "Epoch 82/100\n",
      "1/1 [==============================] - 0s 3ms/step - loss: 0.0554 - mae: 0.0554\n",
      "Epoch 83/100\n",
      "1/1 [==============================] - 0s 3ms/step - loss: 0.0859 - mae: 0.0859\n",
      "Epoch 84/100\n",
      "1/1 [==============================] - 0s 2ms/step - loss: 0.0345 - mae: 0.0345\n",
      "Epoch 85/100\n",
      "1/1 [==============================] - 0s 3ms/step - loss: 0.0678 - mae: 0.0678\n",
      "Epoch 86/100\n",
      "1/1 [==============================] - 0s 3ms/step - loss: 0.0404 - mae: 0.0404\n",
      "Epoch 87/100\n",
      "1/1 [==============================] - 0s 2ms/step - loss: 0.0777 - mae: 0.0777\n",
      "Epoch 88/100\n",
      "1/1 [==============================] - 0s 3ms/step - loss: 0.0404 - mae: 0.0404\n",
      "Epoch 89/100\n",
      "1/1 [==============================] - 0s 3ms/step - loss: 0.0721 - mae: 0.0721\n",
      "Epoch 90/100\n",
      "1/1 [==============================] - 0s 2ms/step - loss: 0.0416 - mae: 0.0416\n",
      "Epoch 91/100\n",
      "1/1 [==============================] - 0s 2ms/step - loss: 0.0833 - mae: 0.0833\n",
      "Epoch 92/100\n",
      "1/1 [==============================] - 0s 3ms/step - loss: 0.0254 - mae: 0.0254\n",
      "Epoch 93/100\n",
      "1/1 [==============================] - 0s 3ms/step - loss: 0.0797 - mae: 0.0797\n",
      "Epoch 94/100\n",
      "1/1 [==============================] - 0s 2ms/step - loss: 0.0434 - mae: 0.0434\n",
      "Epoch 95/100\n",
      "1/1 [==============================] - 0s 3ms/step - loss: 0.0797 - mae: 0.0797\n",
      "Epoch 96/100\n",
      "1/1 [==============================] - 0s 3ms/step - loss: 0.0434 - mae: 0.0434\n",
      "Epoch 97/100\n",
      "1/1 [==============================] - 0s 3ms/step - loss: 0.0797 - mae: 0.0797\n",
      "Epoch 98/100\n",
      "1/1 [==============================] - 0s 3ms/step - loss: 0.0434 - mae: 0.0434\n",
      "Epoch 99/100\n",
      "1/1 [==============================] - 0s 2ms/step - loss: 0.0797 - mae: 0.0797\n",
      "Epoch 100/100\n",
      "1/1 [==============================] - 0s 3ms/step - loss: 0.0434 - mae: 0.0434\n"
     ]
    },
    {
     "data": {
      "text/plain": [
       "<keras.src.callbacks.History at 0x2a928bfebe0>"
      ]
     },
     "execution_count": 8,
     "metadata": {},
     "output_type": "execute_result"
    }
   ],
   "source": [
    "# Let's rebuild the model with epochs=100\n",
    "# set random seed\n",
    "tf.random.set_seed(42)\n",
    "\n",
    "# 1. Create a model using the Sequential API\n",
    "model = tf.keras.Sequential([tf.keras.layers.Dense(1)])\n",
    "\n",
    "# 2. Compile the model \n",
    "model.compile(loss=tf.keras.losses.mae, # mae isshort for mean absolute error\n",
    "              optimizer = tf.keras.optimizers.SGD(), # SGD is short for stochastic gradient descent\n",
    "            metrics=[\"mae\"])\n",
    "\n",
    "# 3. Fit the model\n",
    "model.fit(tf.expand_dims(X, axis=-1), y, epochs=100)"
   ]
  },
  {
   "cell_type": "code",
   "execution_count": 9,
   "metadata": {},
   "outputs": [
    {
     "name": "stdout",
     "output_type": "stream",
     "text": [
      "1/1 [==============================] - 0s 43ms/step\n"
     ]
    },
    {
     "data": {
      "text/plain": [
       "array([[17.383295]], dtype=float32)"
      ]
     },
     "execution_count": 9,
     "metadata": {},
     "output_type": "execute_result"
    }
   ],
   "source": [
    "# Let's see if our model's prediction has improved\n",
    "y_pred2 = model.predict([17.0])\n",
    "y_pred2"
   ]
  },
  {
   "cell_type": "markdown",
   "metadata": {},
   "source": [
    "Much better!\n",
    "\n",
    "We got closer this time. But we could still be better.\n",
    "\n",
    "Now we've trained a model, how could we evaluate it?"
   ]
  },
  {
   "cell_type": "markdown",
   "metadata": {},
   "source": [
    "### Evaluating a model\n",
    "\n",
    "A typical workflow you'll go through when building neural networks is:\n",
    "\n",
    "```\n",
    "Build a model -> evaluate it -> build (tweak) a model -> evaulate it -> build (tweak) a model -> evaluate it...\n",
    "```\n",
    "\n",
    "The tweaking comes from maybe not building a model from scratch but adjusting an existing one.\n",
    "\n",
    "### Visualize, visualize, visualize\n",
    "\n",
    "When it comes to evaluation, you'll want to remember the words: \"visualize, visualize, visualize.\" \n",
    "\n",
    "This is because you're probably better looking at something (doing) than you are thinking about something.\n",
    "\n",
    "It's a good idea to visualize:\n",
    "* **The data** - what data are you working with? What does it look like?\n",
    "* **The model itself** - what does the architecture look like? What are the different shapes?\n",
    "* **The training of a model** - how does a model perform while it learns?\n",
    "* **The predictions of a model** - how do the predictions of a model line up against the ground truth (the original labels)?\n",
    "\n",
    "Let's start by visualizing the model.\n",
    "\n",
    "But first, we'll create a little bit of a bigger dataset and a new model we can use (it'll be the same as before, but the more practice the better).\n"
   ]
  },
  {
   "cell_type": "code",
   "execution_count": 10,
   "metadata": {},
   "outputs": [
    {
     "data": {
      "text/plain": [
       "<tf.Tensor: shape=(50,), dtype=int32, numpy=\n",
       "array([-100,  -96,  -92,  -88,  -84,  -80,  -76,  -72,  -68,  -64,  -60,\n",
       "        -56,  -52,  -48,  -44,  -40,  -36,  -32,  -28,  -24,  -20,  -16,\n",
       "        -12,   -8,   -4,    0,    4,    8,   12,   16,   20,   24,   28,\n",
       "         32,   36,   40,   44,   48,   52,   56,   60,   64,   68,   72,\n",
       "         76,   80,   84,   88,   92,   96])>"
      ]
     },
     "execution_count": 10,
     "metadata": {},
     "output_type": "execute_result"
    }
   ],
   "source": [
    "# Make a bigger dataset\n",
    "X = tf.range(-100,100,4)\n",
    "X"
   ]
  },
  {
   "cell_type": "code",
   "execution_count": 11,
   "metadata": {},
   "outputs": [
    {
     "data": {
      "text/plain": [
       "<tf.Tensor: shape=(50,), dtype=int32, numpy=\n",
       "array([-90, -86, -82, -78, -74, -70, -66, -62, -58, -54, -50, -46, -42,\n",
       "       -38, -34, -30, -26, -22, -18, -14, -10,  -6,  -2,   2,   6,  10,\n",
       "        14,  18,  22,  26,  30,  34,  38,  42,  46,  50,  54,  58,  62,\n",
       "        66,  70,  74,  78,  82,  86,  90,  94,  98, 102, 106])>"
      ]
     },
     "execution_count": 11,
     "metadata": {},
     "output_type": "execute_result"
    }
   ],
   "source": [
    "# Make labels for the dataset\n",
    "y = X + 10\n",
    "y"
   ]
  },
  {
   "cell_type": "code",
   "execution_count": 12,
   "metadata": {},
   "outputs": [
    {
     "data": {
      "text/plain": [
       "<matplotlib.collections.PathCollection at 0x2a928d348b0>"
      ]
     },
     "execution_count": 12,
     "metadata": {},
     "output_type": "execute_result"
    },
    {
     "data": {
      "image/png": "[encoded data removed]",
      "text/plain": [
       "<Figure size 640x480 with 1 Axes>"
      ]
     },
     "metadata": {},
     "output_type": "display_data"
    }
   ],
   "source": [
    "# Visualize the data\n",
    "import matplotlib.pyplot as plt\n",
    "plt.scatter(X,y)"
   ]
  },
  {
   "cell_type": "markdown",
   "metadata": {},
   "source": [
    "## Split data into training/test set\n",
    "\n",
    "One of the other most common and important steps in a machine learning project is creating a training and test set (and when required, a validation set).\n",
    "\n",
    "Each set serves a specific purpose:\n",
    "* **Training set** - the model learns from this data, which is typically 70-80% of the total data available (like the course materials you study during the semester).\n",
    "* **Validation set** - the model gets tuned on this data, which is typically 10-15% of the total data available (like the practice exam you take before the final exam).\n",
    "* **Test set** - the model gets evaluated on this data to test what it has learned, it's typically 10-15% of the total data available (like the final exam you take at the end of the semester).\n",
    "\n",
    "For now, we'll just use a training and test set, this means we'll have a dataset for our model to learn on as well as be evaluated on.\n",
    "\n",
    "We can create them by splitting our `X` and `y` arrays.\n",
    "\n",
    "> 🔑 **Note:** When dealing with real-world data, this step is typically done right at the start of a project (the test set should always be kept separate from all other data). We want our model to learn on training data and then evaluate it on test data to get an indication of how well it **generalizes** to unseen examples."
   ]
  },
  {
   "cell_type": "code",
   "execution_count": 13,
   "metadata": {},
   "outputs": [
    {
     "data": {
      "text/plain": [
       "50"
      ]
     },
     "execution_count": 13,
     "metadata": {},
     "output_type": "execute_result"
    }
   ],
   "source": [
    "# Check how many samples we have\n",
    "len(X)"
   ]
  },
  {
   "cell_type": "code",
   "execution_count": 14,
   "metadata": {},
   "outputs": [
    {
     "data": {
      "text/plain": [
       "(40, 10)"
      ]
     },
     "execution_count": 14,
     "metadata": {},
     "output_type": "execute_result"
    }
   ],
   "source": [
    "# Split data into train and test sets\n",
    "X_train = X[:40] # first 40 examples (80% of data)\n",
    "y_train = y[:40]\n",
    "\n",
    "X_test = X[40:] # last 10 examples (20% of data)\n",
    "y_test = y[40:]\n",
    "\n",
    "len(X_train), len(X_test)"
   ]
  },
  {
   "cell_type": "markdown",
   "metadata": {},
   "source": [
    "## Visualizing the data\n",
    "\n",
    "Now we've got our training and test data, it's a good idea to visualize it.\n",
    "\n",
    "Let's plot it with some nice colours to differentiate what's what."
   ]
  },
  {
   "cell_type": "code",
   "execution_count": 15,
   "metadata": {},
   "outputs": [
    {
     "data": {
      "text/plain": [
       "<matplotlib.legend.Legend at 0x2a928ee5c70>"
      ]
     },
     "execution_count": 15,
     "metadata": {},
     "output_type": "execute_result"
    },
    {
     "data": {
      "image/png": "[encoded data removed]",
      "text/plain": [
       "<Figure size 1000x700 with 1 Axes>"
      ]
     },
     "metadata": {},
     "output_type": "display_data"
    }
   ],
   "source": [
    "plt.figure(figsize=(10, 7))\n",
    "# Plot training data in blue\n",
    "plt.scatter(X_train, y_train, c='b', label='Training data')\n",
    "# Plot test data in green\n",
    "plt.scatter(X_test, y_test, c='g', label='Testing data')\n",
    "# Show the legend\n",
    "plt.legend()"
   ]
  },
  {
   "cell_type": "markdown",
   "metadata": {},
   "source": [
    "Beautiful! Any time you can visualize your data, your model, your anything, it's a good idea. \n",
    "\n",
    "With this graph in mind, what we'll be trying to do is build a model which learns the pattern in the blue dots (`X_train`) to draw the green dots (`X_test`).\n",
    "\n",
    "Time to build a model. We'll make the exact same one from before (the one we trained for longer)."
   ]
  },
  {
   "cell_type": "code",
   "execution_count": 16,
   "metadata": {},
   "outputs": [],
   "source": [
    "# Set random seed\n",
    "tf.random.set_seed(42)\n",
    "\n",
    "# Create a model (same as above)\n",
    "model = tf.keras.Sequential([\n",
    "  tf.keras.layers.Dense(1)\n",
    "])\n",
    "\n",
    "# Compile model (same as above)\n",
    "model.compile(loss=tf.keras.losses.mae,\n",
    "              optimizer=tf.keras.optimizers.SGD(),\n",
    "              metrics=[\"mae\"])\n",
    "\n",
    "# Fit model (same as above)\n",
    "#model.fit(X_train, y_train, epochs=100) # commented out on purpose (not fitting it just yet)"
   ]
  },
  {
   "cell_type": "markdown",
   "metadata": {},
   "source": [
    "## Visualizing the model\n",
    "\n",
    "After you've built a model, you might want to take a look at it (especially if you haven't built many before).\n",
    "\n",
    "You can take a look at the layers and shapes of your model by calling [`summary()`](https://www.tensorflow.org/api_docs/python/tf/keras/Model#summary) on it.\n",
    "\n",
    "> 🔑 **Note:** Visualizing a model is particularly helpful when you run into input and output shape mismatches."
   ]
  },
  {
   "cell_type": "code",
   "execution_count": 17,
   "metadata": {},
   "outputs": [
    {
     "ename": "ValueError",
     "evalue": "This model has not yet been built. Build the model first by calling `build()` or by calling the model on a batch of data.",
     "output_type": "error",
     "traceback": [
      "\u001b[1;31m---------------------------------------------------------------------------\u001b[0m",
      "\u001b[1;31mValueError\u001b[0m                                Traceback (most recent call last)",
      "\u001b[1;32md:\\Ineuron\\TensorFlow-\\notebook\\Neural_network_regression_with_tensorflow.ipynb Cell 29\u001b[0m line \u001b[0;36m2\n\u001b[0;32m      <a href='vscode-notebook-cell:/d%3A/Ineuron/TensorFlow-/notebook/Neural_network_regression_with_tensorflow.ipynb#X62sZmlsZQ%3D%3D?line=0'>1</a>\u001b[0m \u001b[39m# Doesn't work (model not fit/built)\u001b[39;00m\n\u001b[1;32m----> <a href='vscode-notebook-cell:/d%3A/Ineuron/TensorFlow-/notebook/Neural_network_regression_with_tensorflow.ipynb#X62sZmlsZQ%3D%3D?line=1'>2</a>\u001b[0m model\u001b[39m.\u001b[39;49msummary()\n",
      "File \u001b[1;32mc:\\Users\\pc\\anaconda3\\envs\\tf\\lib\\site-packages\\keras\\src\\engine\\training.py:3403\u001b[0m, in \u001b[0;36mModel.summary\u001b[1;34m(self, line_length, positions, print_fn, expand_nested, show_trainable, layer_range)\u001b[0m\n\u001b[0;32m   3372\u001b[0m \u001b[39m\u001b[39m\u001b[39m\"\"\"Prints a string summary of the network.\u001b[39;00m\n\u001b[0;32m   3373\u001b[0m \n\u001b[0;32m   3374\u001b[0m \u001b[39mArgs:\u001b[39;00m\n\u001b[1;32m   (...)\u001b[0m\n\u001b[0;32m   3400\u001b[0m \u001b[39m    ValueError: if `summary()` is called before the model is built.\u001b[39;00m\n\u001b[0;32m   3401\u001b[0m \u001b[39m\"\"\"\u001b[39;00m\n\u001b[0;32m   3402\u001b[0m \u001b[39mif\u001b[39;00m \u001b[39mnot\u001b[39;00m \u001b[39mself\u001b[39m\u001b[39m.\u001b[39mbuilt:\n\u001b[1;32m-> 3403\u001b[0m     \u001b[39mraise\u001b[39;00m \u001b[39mValueError\u001b[39;00m(\n\u001b[0;32m   3404\u001b[0m         \u001b[39m\"\u001b[39m\u001b[39mThis model has not yet been built. \u001b[39m\u001b[39m\"\u001b[39m\n\u001b[0;32m   3405\u001b[0m         \u001b[39m\"\u001b[39m\u001b[39mBuild the model first by calling `build()` or by calling \u001b[39m\u001b[39m\"\u001b[39m\n\u001b[0;32m   3406\u001b[0m         \u001b[39m\"\u001b[39m\u001b[39mthe model on a batch of data.\u001b[39m\u001b[39m\"\u001b[39m\n\u001b[0;32m   3407\u001b[0m     )\n\u001b[0;32m   3408\u001b[0m layer_utils\u001b[39m.\u001b[39mprint_summary(\n\u001b[0;32m   3409\u001b[0m     \u001b[39mself\u001b[39m,\n\u001b[0;32m   3410\u001b[0m     line_length\u001b[39m=\u001b[39mline_length,\n\u001b[1;32m   (...)\u001b[0m\n\u001b[0;32m   3415\u001b[0m     layer_range\u001b[39m=\u001b[39mlayer_range,\n\u001b[0;32m   3416\u001b[0m )\n",
      "\u001b[1;31mValueError\u001b[0m: This model has not yet been built. Build the model first by calling `build()` or by calling the model on a batch of data."
     ]
    }
   ],
   "source": [
    "# Doesn't work (model not fit/built)\n",
    "model.summary()"
   ]
  },
  {
   "cell_type": "markdown",
   "metadata": {},
   "source": [
    "Ahh, the cell above errors because we haven't fit or built our model.\n",
    "\n",
    "We also haven't told it what input shape it should be expecting.\n",
    "\n",
    "Remember above, how we discussed the input shape was just one number?\n",
    "\n",
    "We can let our model know the input shape of our data using the `input_shape` parameter to the first layer (usually if `input_shape` isn't defined, Keras tries to figure it out automatically)."
   ]
  },
  {
   "cell_type": "code",
   "execution_count": 18,
   "metadata": {},
   "outputs": [],
   "source": [
    "# Set random seed\n",
    "tf.random.set_seed(42)\n",
    "\n",
    "# Create a model (same as above)\n",
    "model = tf.keras.Sequential([\n",
    "  tf.keras.layers.Dense(1, input_shape=[1]) # define the input_shape to our model\n",
    "])\n",
    "\n",
    "# Compile model (same as above)\n",
    "model.compile(loss=tf.keras.losses.mae,\n",
    "              optimizer=tf.keras.optimizers.SGD(),\n",
    "              metrics=[\"mae\"])"
   ]
  },
  {
   "cell_type": "code",
   "execution_count": 19,
   "metadata": {},
   "outputs": [
    {
     "name": "stdout",
     "output_type": "stream",
     "text": [
      "Model: \"sequential_3\"\n",
      "_________________________________________________________________\n",
      " Layer (type)                Output Shape              Param #   \n",
      "=================================================================\n",
      " dense_3 (Dense)             (None, 1)                 2         \n",
      "                                                                 \n",
      "=================================================================\n",
      "Total params: 2 (8.00 Byte)\n",
      "Trainable params: 2 (8.00 Byte)\n",
      "Non-trainable params: 0 (0.00 Byte)\n",
      "_________________________________________________________________\n"
     ]
    }
   ],
   "source": [
    "model.summary()"
   ]
  },
  {
   "cell_type": "markdown",
   "metadata": {},
   "source": [
    "Calling `summary()` on our model shows us the layers it contains, the output shape and the number of parameters.\n",
    "* **Total params** - total number of parameters in the model.\n",
    "* **Trainable parameters** - these are the parameters (patterns) the model can update as it trains.\n",
    "* **Non-trainable parameters** - these parameters aren't updated during training (this is typical when you bring in the already learned patterns from other models during transfer learning)."
   ]
  },
  {
   "cell_type": "code",
   "execution_count": 20,
   "metadata": {},
   "outputs": [
    {
     "data": {
      "text/plain": [
       "<keras.src.callbacks.History at 0x2a928c01370>"
      ]
     },
     "execution_count": 20,
     "metadata": {},
     "output_type": "execute_result"
    }
   ],
   "source": [
    "# Fit the model to the training data\n",
    "model.fit(X_train, y_train, epochs=100, verbose=0) # verbose controls how much gets output"
   ]
  },
  {
   "cell_type": "code",
   "execution_count": 21,
   "metadata": {},
   "outputs": [
    {
     "name": "stdout",
     "output_type": "stream",
     "text": [
      "Model: \"sequential_3\"\n",
      "_________________________________________________________________\n",
      " Layer (type)                Output Shape              Param #   \n",
      "=================================================================\n",
      " dense_3 (Dense)             (None, 1)                 2         \n",
      "                                                                 \n",
      "=================================================================\n",
      "Total params: 2 (8.00 Byte)\n",
      "Trainable params: 2 (8.00 Byte)\n",
      "Non-trainable params: 0 (0.00 Byte)\n",
      "_________________________________________________________________\n"
     ]
    }
   ],
   "source": [
    "# Check the model summary\n",
    "model.summary()"
   ]
  },
  {
   "cell_type": "markdown",
   "metadata": {},
   "source": [
    "Alongside summary, you can also view a 2D plot of the model using [`plot_model()`](https://www.tensorflow.org/api_docs/python/tf/keras/utils/plot_model)."
   ]
  },
  {
   "cell_type": "code",
   "execution_count": 22,
   "metadata": {},
   "outputs": [
    {
     "name": "stdout",
     "output_type": "stream",
     "text": [
      "You must install pydot (`pip install pydot`) and install graphviz (see instructions at https://graphviz.gitlab.io/download/) for plot_model to work.\n"
     ]
    }
   ],
   "source": [
    "from tensorflow.keras.utils import plot_model\n",
    "\n",
    "plot_model(model, show_shapes=True)"
   ]
  },
  {
   "cell_type": "markdown",
   "metadata": {},
   "source": [
    "## Visualizing the predictions\n",
    "\n",
    "Now we've got a trained model, let's visualize some predictions.\n",
    "\n",
    "To visualize predictions, it's always a good idea to plot them against the ground truth labels.\n",
    "\n",
    "Often you'll see this in the form of `y_test` vs. `y_pred` (ground truth vs. predictions).\n",
    "\n",
    "First, we'll make some predictions on the test data (`X_test`), remember the model has never seen the test data."
   ]
  },
  {
   "cell_type": "code",
   "execution_count": 23,
   "metadata": {},
   "outputs": [
    {
     "name": "stdout",
     "output_type": "stream",
     "text": [
      "1/1 [==============================] - 0s 32ms/step\n"
     ]
    }
   ],
   "source": [
    "# Make predictions\n",
    "y_preds = model.predict(X_test)"
   ]
  },
  {
   "cell_type": "code",
   "execution_count": 24,
   "metadata": {},
   "outputs": [
    {
     "data": {
      "text/plain": [
       "array([[44.404312],\n",
       "       [47.27731 ],\n",
       "       [50.150307],\n",
       "       [53.0233  ],\n",
       "       [55.896297],\n",
       "       [58.76929 ],\n",
       "       [61.64229 ],\n",
       "       [64.51528 ],\n",
       "       [67.388275],\n",
       "       [70.26128 ]], dtype=float32)"
      ]
     },
     "execution_count": 24,
     "metadata": {},
     "output_type": "execute_result"
    }
   ],
   "source": [
    "y_preds"
   ]
  },
  {
   "cell_type": "markdown",
   "metadata": {},
   "source": [
    "Okay, we get a list of numbers but how do these compare to the ground truth labels?\n",
    "\n",
    "Let's build a plotting function to find out.\n",
    "\n",
    "> 🔑 **Note:** If you think you're going to be visualizing something a lot, it's a good idea to functionize it so you can use it later."
   ]
  },
  {
   "cell_type": "code",
   "execution_count": 25,
   "metadata": {},
   "outputs": [
    {
     "data": {
      "text/plain": [
       "<tf.Tensor: shape=(10,), dtype=int32, numpy=array([ 70,  74,  78,  82,  86,  90,  94,  98, 102, 106])>"
      ]
     },
     "execution_count": 25,
     "metadata": {},
     "output_type": "execute_result"
    }
   ],
   "source": [
    "y_test"
   ]
  },
  {
   "cell_type": "code",
   "execution_count": 26,
   "metadata": {},
   "outputs": [],
   "source": [
    "def plot_predictions(train_data=X_train, \n",
    "                     train_labels=y_train, \n",
    "                     test_data=X_test, \n",
    "                     test_labels=y_test, \n",
    "                     predictions=y_preds):\n",
    "  \"\"\"\n",
    "  Plots training data, test data and compares predictions.\n",
    "  \"\"\"\n",
    "  plt.figure(figsize=(10, 7))\n",
    "  # Plot training data in blue\n",
    "  plt.scatter(train_data, train_labels, c=\"b\", label=\"Training data\")\n",
    "  # Plot test data in green\n",
    "  plt.scatter(test_data, test_labels, c=\"g\", label=\"Testing data\")\n",
    "  # Plot the predictions in red (predictions were made on the test data)\n",
    "  plt.scatter(test_data, predictions, c=\"r\", label=\"Predictions\")\n",
    "  # Show the legend\n",
    "  plt.legend()"
   ]
  },
  {
   "cell_type": "code",
   "execution_count": 27,
   "metadata": {},
   "outputs": [
    {
     "data": {
      "image/png": "[encoded data removed]",
      "text/plain": [
       "<Figure size 1000x700 with 1 Axes>"
      ]
     },
     "metadata": {},
     "output_type": "display_data"
    }
   ],
   "source": [
    "plot_predictions(train_data=X_train,\n",
    "                 train_labels=y_train,\n",
    "                 test_data=X_test,\n",
    "                 test_labels=y_test,\n",
    "                 predictions=y_preds)"
   ]
  },
  {
   "cell_type": "markdown",
   "metadata": {},
   "source": [
    "## Evaluating predictions\n",
    "\n",
    "Alongside visualizations, evaulation metrics are your alternative best option for evaluating your model.\n",
    "\n",
    "Depending on the problem you're working on, different models have different evaluation metrics. \n",
    "\n",
    "Two of the main metrics used for regression problems are:\n",
    "* **Mean absolute error (MAE)** - the mean difference between each of the predictions.\n",
    "* **Mean squared error (MSE)** - the squared mean difference between of the predictions (use if larger errors are more detrimental than smaller errors).\n",
    "\n",
    "The lower each of these values, the better.\n",
    "\n",
    "You can also use [`model.evaluate()`](https://www.tensorflow.org/api_docs/python/tf/keras/Model#evaluate) which will return the loss of the model as well as any metrics setup during the compile step."
   ]
  },
  {
   "cell_type": "code",
   "execution_count": 28,
   "metadata": {},
   "outputs": [
    {
     "name": "stdout",
     "output_type": "stream",
     "text": [
      "1/1 [==============================] - 0s 90ms/step - loss: 30.6672 - mae: 30.6672\n"
     ]
    },
    {
     "data": {
      "text/plain": [
       "[30.667205810546875, 30.667205810546875]"
      ]
     },
     "execution_count": 28,
     "metadata": {},
     "output_type": "execute_result"
    }
   ],
   "source": [
    "# Evaluate the model on the test data\n",
    "model.evaluate(X_test,y_test)"
   ]
  },
  {
   "cell_type": "code",
   "execution_count": 31,
   "metadata": {},
   "outputs": [
    {
     "data": {
      "text/plain": [
       "<tf.Tensor: shape=(), dtype=float32, numpy=30.667206>"
      ]
     },
     "execution_count": 31,
     "metadata": {},
     "output_type": "execute_result"
    }
   ],
   "source": [
    "# Calculate the mean absolute error\n",
    "mae = tf.keras.losses.MAE(y_test,tf.squeeze(y_preds))\n",
    "mae"
   ]
  },
  {
   "cell_type": "code",
   "execution_count": 33,
   "metadata": {},
   "outputs": [
    {
     "data": {
      "text/plain": [
       "<tf.Tensor: shape=(), dtype=float32, numpy=950.95624>"
      ]
     },
     "execution_count": 33,
     "metadata": {},
     "output_type": "execute_result"
    }
   ],
   "source": [
    "# Calculate the mean square error\n",
    "mse = tf.keras.losses.MSE(y_test,tf.squeeze(y_preds))\n",
    "mse"
   ]
  },
  {
   "cell_type": "code",
   "execution_count": 35,
   "metadata": {},
   "outputs": [],
   "source": [
    "# Make some functions to reuse MAE and MSE\n",
    "def mae(y_true, y_pred):\n",
    "    \"\"\"\n",
    "  Calculuates mean absolute error between y_test and y_preds.\n",
    "  \"\"\"\n",
    "    return tf.metrics.mean_absolute_error(y_true=y_true, y_pred=y_pred)\n",
    "\n",
    "def mse(y_true, y_pred):\n",
    "    \"\"\"\n",
    "  Calculates mean squared error between y_test and y_preds.\n",
    "  \"\"\"\n",
    "    return tf.metrics.mean_squared_error(y_true=y_true, y_pred=y_pred)"
   ]
  },
  {
   "cell_type": "markdown",
   "metadata": {},
   "source": [
    "## Running experiments to improve a model\n",
    "\n",
    "After seeing the evaluation metrics and the predictions your model makes, it's likely you'll want to improve it.\n",
    "\n",
    "Again, there are many different ways you can do this, but 3 of the main ones are:\n",
    "1. **Get more data** - get more examples for your model to train on (more opportunities to learn patterns).\n",
    "2. **Make your model larger (use a more complex model)** - this might come in the form of more layers or more hidden units in each layer.\n",
    "3. **Train for longer** - give your model more of a chance to find the patterns in the data.\n",
    "\n",
    "Since we created our dataset, we could easily make more data but this isn't always the case when you're working with real-world datasets.\n",
    "\n",
    "So let's take a look at how we can improve our model using 2 and 3.\n",
    "\n",
    "To do so, we'll build 3 models and compare their results:\n",
    "1. `model_1` - same as original model, 1 layer, trained for 100 epochs.\n",
    "2. `model_2` - 2 layers, trained for 100 epochs.\n",
    "3. `model_3` - 2 layers, trained for 500 epochs.\n",
    "\n",
    "**Build `model_1`**"
   ]
  },
  {
   "cell_type": "code",
   "execution_count": 37,
   "metadata": {},
   "outputs": [
    {
     "name": "stdout",
     "output_type": "stream",
     "text": [
      "Epoch 1/100\n",
      "2/2 - 0s - loss: 77.6154 - mae: 77.6154 - 188ms/epoch - 94ms/step\n",
      "Epoch 2/100\n",
      "2/2 - 0s - loss: 42.2579 - mae: 42.2579 - 3ms/epoch - 1ms/step\n",
      "Epoch 3/100\n",
      "2/2 - 0s - loss: 10.1552 - mae: 10.1552 - 2ms/epoch - 1ms/step\n",
      "Epoch 4/100\n",
      "2/2 - 0s - loss: 9.5187 - mae: 9.5187 - 2ms/epoch - 1000us/step\n",
      "Epoch 5/100\n",
      "2/2 - 0s - loss: 10.4165 - mae: 10.4165 - 3ms/epoch - 2ms/step\n",
      "Epoch 6/100\n",
      "2/2 - 0s - loss: 9.6526 - mae: 9.6526 - 3ms/epoch - 2ms/step\n",
      "Epoch 7/100\n",
      "2/2 - 0s - loss: 8.7593 - mae: 8.7593 - 3ms/epoch - 2ms/step\n",
      "Epoch 8/100\n",
      "2/2 - 0s - loss: 9.0813 - mae: 9.0813 - 3ms/epoch - 1ms/step\n",
      "Epoch 9/100\n",
      "2/2 - 0s - loss: 19.1830 - mae: 19.1830 - 2ms/epoch - 1000us/step\n",
      "Epoch 10/100\n",
      "2/2 - 0s - loss: 10.3700 - mae: 10.3700 - 4ms/epoch - 2ms/step\n",
      "Epoch 11/100\n",
      "2/2 - 0s - loss: 8.5110 - mae: 8.5110 - 3ms/epoch - 2ms/step\n",
      "Epoch 12/100\n",
      "2/2 - 0s - loss: 10.8729 - mae: 10.8729 - 3ms/epoch - 1ms/step\n",
      "Epoch 13/100\n",
      "2/2 - 0s - loss: 9.9184 - mae: 9.9184 - 3ms/epoch - 1ms/step\n",
      "Epoch 14/100\n",
      "2/2 - 0s - loss: 12.1381 - mae: 12.1381 - 4ms/epoch - 2ms/step\n",
      "Epoch 15/100\n",
      "2/2 - 0s - loss: 12.3760 - mae: 12.3760 - 3ms/epoch - 2ms/step\n",
      "Epoch 16/100\n",
      "2/2 - 0s - loss: 8.4513 - mae: 8.4513 - 2ms/epoch - 1ms/step\n",
      "Epoch 17/100\n",
      "2/2 - 0s - loss: 13.4097 - mae: 13.4097 - 3ms/epoch - 2ms/step\n",
      "Epoch 18/100\n",
      "2/2 - 0s - loss: 11.1766 - mae: 11.1766 - 4ms/epoch - 2ms/step\n",
      "Epoch 19/100\n",
      "2/2 - 0s - loss: 18.3977 - mae: 18.3977 - 3ms/epoch - 1ms/step\n",
      "Epoch 20/100\n",
      "2/2 - 0s - loss: 15.1008 - mae: 15.1008 - 2ms/epoch - 1ms/step\n",
      "Epoch 21/100\n",
      "2/2 - 0s - loss: 11.0694 - mae: 11.0694 - 3ms/epoch - 1ms/step\n",
      "Epoch 22/100\n",
      "2/2 - 0s - loss: 8.2030 - mae: 8.2030 - 3ms/epoch - 1ms/step\n",
      "Epoch 23/100\n",
      "2/2 - 0s - loss: 9.5131 - mae: 9.5131 - 2ms/epoch - 1ms/step\n",
      "Epoch 24/100\n",
      "2/2 - 0s - loss: 7.6893 - mae: 7.6893 - 3ms/epoch - 1ms/step\n",
      "Epoch 25/100\n",
      "2/2 - 0s - loss: 13.1475 - mae: 13.1475 - 2ms/epoch - 1ms/step\n",
      "Epoch 26/100\n",
      "2/2 - 0s - loss: 16.4718 - mae: 16.4718 - 3ms/epoch - 1ms/step\n",
      "Epoch 27/100\n",
      "2/2 - 0s - loss: 13.2118 - mae: 13.2118 - 2ms/epoch - 1ms/step\n",
      "Epoch 28/100\n",
      "2/2 - 0s - loss: 14.3108 - mae: 14.3108 - 4ms/epoch - 2ms/step\n",
      "Epoch 29/100\n",
      "2/2 - 0s - loss: 10.0971 - mae: 10.0971 - 3ms/epoch - 2ms/step\n",
      "Epoch 30/100\n",
      "2/2 - 0s - loss: 16.4109 - mae: 16.4109 - 4ms/epoch - 2ms/step\n",
      "Epoch 31/100\n",
      "2/2 - 0s - loss: 23.5962 - mae: 23.5962 - 4ms/epoch - 2ms/step\n",
      "Epoch 32/100\n",
      "2/2 - 0s - loss: 7.6338 - mae: 7.6338 - 4ms/epoch - 2ms/step\n",
      "Epoch 33/100\n",
      "2/2 - 0s - loss: 9.3309 - mae: 9.3309 - 4ms/epoch - 2ms/step\n",
      "Epoch 34/100\n",
      "2/2 - 0s - loss: 13.7087 - mae: 13.7087 - 3ms/epoch - 1ms/step\n",
      "Epoch 35/100\n",
      "2/2 - 0s - loss: 11.1699 - mae: 11.1699 - 3ms/epoch - 1ms/step\n",
      "Epoch 36/100\n",
      "2/2 - 0s - loss: 13.3820 - mae: 13.3820 - 5ms/epoch - 3ms/step\n",
      "Epoch 37/100\n",
      "2/2 - 0s - loss: 9.4788 - mae: 9.4788 - 4ms/epoch - 2ms/step\n",
      "Epoch 38/100\n",
      "2/2 - 0s - loss: 10.1340 - mae: 10.1340 - 4ms/epoch - 2ms/step\n",
      "Epoch 39/100\n",
      "2/2 - 0s - loss: 10.2219 - mae: 10.2219 - 3ms/epoch - 2ms/step\n",
      "Epoch 40/100\n",
      "2/2 - 0s - loss: 10.9623 - mae: 10.9623 - 3ms/epoch - 2ms/step\n",
      "Epoch 41/100\n",
      "2/2 - 0s - loss: 7.9510 - mae: 7.9510 - 3ms/epoch - 2ms/step\n",
      "Epoch 42/100\n",
      "2/2 - 0s - loss: 10.0907 - mae: 10.0907 - 3ms/epoch - 1ms/step\n",
      "Epoch 43/100\n",
      "2/2 - 0s - loss: 8.7125 - mae: 8.7125 - 2ms/epoch - 1000us/step\n",
      "Epoch 44/100\n",
      "2/2 - 0s - loss: 12.1818 - mae: 12.1818 - 2ms/epoch - 1ms/step\n",
      "Epoch 45/100\n",
      "2/2 - 0s - loss: 13.8515 - mae: 13.8515 - 3ms/epoch - 2ms/step\n",
      "Epoch 46/100\n",
      "2/2 - 0s - loss: 8.5151 - mae: 8.5151 - 3ms/epoch - 1ms/step\n",
      "Epoch 47/100\n",
      "2/2 - 0s - loss: 9.1348 - mae: 9.1348 - 3ms/epoch - 2ms/step\n",
      "Epoch 48/100\n",
      "2/2 - 0s - loss: 10.6128 - mae: 10.6128 - 2ms/epoch - 1ms/step\n",
      "Epoch 49/100\n",
      "2/2 - 0s - loss: 7.7535 - mae: 7.7535 - 2ms/epoch - 1ms/step\n",
      "Epoch 50/100\n",
      "2/2 - 0s - loss: 9.5359 - mae: 9.5359 - 3ms/epoch - 2ms/step\n",
      "Epoch 51/100\n",
      "2/2 - 0s - loss: 9.1728 - mae: 9.1728 - 2ms/epoch - 1ms/step\n",
      "Epoch 52/100\n",
      "2/2 - 0s - loss: 16.3159 - mae: 16.3159 - 2ms/epoch - 1000us/step\n",
      "Epoch 53/100\n",
      "2/2 - 0s - loss: 14.1684 - mae: 14.1684 - 2ms/epoch - 1ms/step\n",
      "Epoch 54/100\n",
      "2/2 - 0s - loss: 21.1946 - mae: 21.1946 - 3ms/epoch - 2ms/step\n",
      "Epoch 55/100\n",
      "2/2 - 0s - loss: 16.3580 - mae: 16.3580 - 2ms/epoch - 1000us/step\n",
      "Epoch 56/100\n",
      "2/2 - 0s - loss: 10.0340 - mae: 10.0340 - 2ms/epoch - 1000us/step\n",
      "Epoch 57/100\n",
      "2/2 - 0s - loss: 9.9586 - mae: 9.9586 - 3ms/epoch - 2ms/step\n",
      "Epoch 58/100\n",
      "2/2 - 0s - loss: 9.2227 - mae: 9.2227 - 3ms/epoch - 2ms/step\n",
      "Epoch 59/100\n",
      "2/2 - 0s - loss: 8.4230 - mae: 8.4230 - 2ms/epoch - 999us/step\n",
      "Epoch 60/100\n",
      "2/2 - 0s - loss: 9.4925 - mae: 9.4925 - 2ms/epoch - 1ms/step\n",
      "Epoch 61/100\n",
      "2/2 - 0s - loss: 11.4247 - mae: 11.4247 - 3ms/epoch - 2ms/step\n",
      "Epoch 62/100\n",
      "2/2 - 0s - loss: 11.7429 - mae: 11.7429 - 3ms/epoch - 2ms/step\n",
      "Epoch 63/100\n",
      "2/2 - 0s - loss: 7.0940 - mae: 7.0940 - 3ms/epoch - 2ms/step\n",
      "Epoch 64/100\n",
      "2/2 - 0s - loss: 17.0200 - mae: 17.0200 - 3ms/epoch - 1ms/step\n",
      "Epoch 65/100\n",
      "2/2 - 0s - loss: 12.5054 - mae: 12.5054 - 2ms/epoch - 1000us/step\n",
      "Epoch 66/100\n",
      "2/2 - 0s - loss: 13.0722 - mae: 13.0722 - 3ms/epoch - 2ms/step\n",
      "Epoch 67/100\n",
      "2/2 - 0s - loss: 8.0946 - mae: 8.0946 - 3ms/epoch - 1ms/step\n",
      "Epoch 68/100\n",
      "2/2 - 0s - loss: 10.2304 - mae: 10.2304 - 3ms/epoch - 2ms/step\n",
      "Epoch 69/100\n",
      "2/2 - 0s - loss: 12.4203 - mae: 12.4203 - 2ms/epoch - 1ms/step\n",
      "Epoch 70/100\n",
      "2/2 - 0s - loss: 9.0541 - mae: 9.0541 - 2ms/epoch - 1000us/step\n",
      "Epoch 71/100\n",
      "2/2 - 0s - loss: 10.0375 - mae: 10.0375 - 3ms/epoch - 2ms/step\n",
      "Epoch 72/100\n",
      "2/2 - 0s - loss: 10.0562 - mae: 10.0562 - 3ms/epoch - 2ms/step\n",
      "Epoch 73/100\n",
      "2/2 - 0s - loss: 12.5984 - mae: 12.5984 - 2ms/epoch - 1000us/step\n",
      "Epoch 74/100\n",
      "2/2 - 0s - loss: 10.4392 - mae: 10.4392 - 2ms/epoch - 1ms/step\n",
      "Epoch 75/100\n",
      "2/2 - 0s - loss: 9.7244 - mae: 9.7244 - 2ms/epoch - 1ms/step\n",
      "Epoch 76/100\n",
      "2/2 - 0s - loss: 11.2204 - mae: 11.2204 - 2ms/epoch - 1000us/step\n",
      "Epoch 77/100\n",
      "2/2 - 0s - loss: 8.3660 - mae: 8.3660 - 2ms/epoch - 1000us/step\n",
      "Epoch 78/100\n",
      "2/2 - 0s - loss: 9.1167 - mae: 9.1167 - 3ms/epoch - 2ms/step\n",
      "Epoch 79/100\n",
      "2/2 - 0s - loss: 19.5717 - mae: 19.5717 - 3ms/epoch - 2ms/step\n",
      "Epoch 80/100\n",
      "2/2 - 0s - loss: 14.8623 - mae: 14.8623 - 3ms/epoch - 2ms/step\n",
      "Epoch 81/100\n",
      "2/2 - 0s - loss: 9.0660 - mae: 9.0660 - 3ms/epoch - 1ms/step\n",
      "Epoch 82/100\n",
      "2/2 - 0s - loss: 12.9977 - mae: 12.9977 - 2ms/epoch - 1ms/step\n",
      "Epoch 83/100\n",
      "2/2 - 0s - loss: 7.9254 - mae: 7.9254 - 2ms/epoch - 1ms/step\n",
      "Epoch 84/100\n",
      "2/2 - 0s - loss: 7.7190 - mae: 7.7190 - 3ms/epoch - 2ms/step\n",
      "Epoch 85/100\n",
      "2/2 - 0s - loss: 10.0779 - mae: 10.0779 - 3ms/epoch - 1ms/step\n",
      "Epoch 86/100\n",
      "2/2 - 0s - loss: 9.2797 - mae: 9.2797 - 3ms/epoch - 2ms/step\n",
      "Epoch 87/100\n",
      "2/2 - 0s - loss: 12.0674 - mae: 12.0674 - 3ms/epoch - 2ms/step\n",
      "Epoch 88/100\n",
      "2/2 - 0s - loss: 10.6888 - mae: 10.6888 - 3ms/epoch - 1ms/step\n",
      "Epoch 89/100\n",
      "2/2 - 0s - loss: 7.2904 - mae: 7.2904 - 3ms/epoch - 1ms/step\n",
      "Epoch 90/100\n",
      "2/2 - 0s - loss: 12.8321 - mae: 12.8321 - 3ms/epoch - 1ms/step\n",
      "Epoch 91/100\n",
      "2/2 - 0s - loss: 7.5062 - mae: 7.5062 - 2ms/epoch - 1000us/step\n",
      "Epoch 92/100\n",
      "2/2 - 0s - loss: 6.7726 - mae: 6.7726 - 3ms/epoch - 2ms/step\n",
      "Epoch 93/100\n",
      "2/2 - 0s - loss: 11.9820 - mae: 11.9820 - 3ms/epoch - 2ms/step\n",
      "Epoch 94/100\n",
      "2/2 - 0s - loss: 8.9120 - mae: 8.9120 - 3ms/epoch - 1ms/step\n",
      "Epoch 95/100\n",
      "2/2 - 0s - loss: 7.7494 - mae: 7.7494 - 2ms/epoch - 1ms/step\n",
      "Epoch 96/100\n",
      "2/2 - 0s - loss: 6.7736 - mae: 6.7736 - 2ms/epoch - 1ms/step\n",
      "Epoch 97/100\n",
      "2/2 - 0s - loss: 8.6661 - mae: 8.6661 - 3ms/epoch - 1ms/step\n",
      "Epoch 98/100\n",
      "2/2 - 0s - loss: 9.4061 - mae: 9.4061 - 2ms/epoch - 1000us/step\n",
      "Epoch 99/100\n",
      "2/2 - 0s - loss: 9.1429 - mae: 9.1429 - 2ms/epoch - 1000us/step\n",
      "Epoch 100/100\n",
      "2/2 - 0s - loss: 10.4966 - mae: 10.4966 - 3ms/epoch - 1ms/step\n"
     ]
    },
    {
     "data": {
      "text/plain": [
       "<keras.src.callbacks.History at 0x2a929e33880>"
      ]
     },
     "execution_count": 37,
     "metadata": {},
     "output_type": "execute_result"
    }
   ],
   "source": [
    "# Set random seed\n",
    "tf.random.set_seed(42)\n",
    "\n",
    "# Create a model (same as above)\n",
    "model1 = tf.keras.Sequential([\n",
    "  tf.keras.layers.Dense(1, input_shape=[1]) # define the input_shape to our model\n",
    "])\n",
    "\n",
    "# Compile model (same as above)\n",
    "model1.compile(loss=tf.keras.losses.mae,\n",
    "              optimizer=tf.keras.optimizers.SGD(),\n",
    "              metrics=[\"mae\"])\n",
    "\n",
    "# Fit the model to the training data\n",
    "model1.fit(X_train, y_train, epochs=100, verbose=2) # verbose controls how much gets output"
   ]
  },
  {
   "cell_type": "code",
   "execution_count": 38,
   "metadata": {},
   "outputs": [
    {
     "name": "stdout",
     "output_type": "stream",
     "text": [
      "1/1 [==============================] - 0s 31ms/step\n"
     ]
    },
    {
     "data": {
      "image/png": "[encoded data removed]",
      "text/plain": [
       "<Figure size 1000x700 with 1 Axes>"
      ]
     },
     "metadata": {},
     "output_type": "display_data"
    }
   ],
   "source": [
    "# Make and plot predictions for model_1\n",
    "y_preds_1 = model1.predict(X_test)\n",
    "plot_predictions(predictions=y_preds_1)"
   ]
  },
  {
   "cell_type": "code",
   "execution_count": 40,
   "metadata": {},
   "outputs": [
    {
     "data": {
      "text/plain": [
       "(<tf.Tensor: shape=(), dtype=float32, numpy=15.00466>,\n",
       " <tf.Tensor: shape=(), dtype=float32, numpy=225.99368>)"
      ]
     },
     "execution_count": 40,
     "metadata": {},
     "output_type": "execute_result"
    }
   ],
   "source": [
    "# Calculate model_1 metrics\n",
    "mae_1 = mae(y_test, y_preds_1.squeeze())\n",
    "mse_1 = mse(y_test, y_preds_1.squeeze())\n",
    "mae_1, mse_1"
   ]
  },
  {
   "cell_type": "markdown",
   "metadata": {},
   "source": [
    "**Build `model_2`**\n",
    "\n",
    "This time we'll add an extra dense layer (so now our model will have 2 layers) whilst keeping everything else the same."
   ]
  },
  {
   "cell_type": "code",
   "execution_count": 44,
   "metadata": {},
   "outputs": [
    {
     "name": "stdout",
     "output_type": "stream",
     "text": [
      "Epoch 1/100\n",
      "2/2 - 0s - loss: 54.6861 - mae: 54.6861 - 227ms/epoch - 113ms/step\n",
      "Epoch 2/100\n",
      "2/2 - 0s - loss: 31.2457 - mae: 31.2457 - 3ms/epoch - 1ms/step\n",
      "Epoch 3/100\n",
      "2/2 - 0s - loss: 10.2258 - mae: 10.2258 - 3ms/epoch - 2ms/step\n",
      "Epoch 4/100\n",
      "2/2 - 0s - loss: 11.6953 - mae: 11.6953 - 3ms/epoch - 1ms/step\n",
      "Epoch 5/100\n",
      "2/2 - 0s - loss: 12.5849 - mae: 12.5849 - 4ms/epoch - 2ms/step\n",
      "Epoch 6/100\n",
      "2/2 - 0s - loss: 10.1994 - mae: 10.1994 - 3ms/epoch - 1ms/step\n",
      "Epoch 7/100\n",
      "2/2 - 0s - loss: 11.0848 - mae: 11.0848 - 3ms/epoch - 2ms/step\n",
      "Epoch 8/100\n",
      "2/2 - 0s - loss: 11.0110 - mae: 11.0110 - 5ms/epoch - 2ms/step\n",
      "Epoch 9/100\n",
      "2/2 - 0s - loss: 39.5895 - mae: 39.5895 - 3ms/epoch - 1ms/step\n",
      "Epoch 10/100\n",
      "2/2 - 0s - loss: 27.0911 - mae: 27.0911 - 3ms/epoch - 1ms/step\n",
      "Epoch 11/100\n",
      "2/2 - 0s - loss: 11.0319 - mae: 11.0319 - 3ms/epoch - 2ms/step\n",
      "Epoch 12/100\n",
      "2/2 - 0s - loss: 24.3977 - mae: 24.3977 - 4ms/epoch - 2ms/step\n",
      "Epoch 13/100\n",
      "2/2 - 0s - loss: 19.1996 - mae: 19.1996 - 3ms/epoch - 1ms/step\n",
      "Epoch 14/100\n",
      "2/2 - 0s - loss: 23.3912 - mae: 23.3912 - 3ms/epoch - 1ms/step\n",
      "Epoch 15/100\n",
      "2/2 - 0s - loss: 15.2211 - mae: 15.2211 - 3ms/epoch - 1ms/step\n",
      "Epoch 16/100\n",
      "2/2 - 0s - loss: 11.3444 - mae: 11.3444 - 3ms/epoch - 1ms/step\n",
      "Epoch 17/100\n",
      "2/2 - 0s - loss: 23.1198 - mae: 23.1198 - 4ms/epoch - 2ms/step\n",
      "Epoch 18/100\n",
      "2/2 - 0s - loss: 11.7526 - mae: 11.7526 - 3ms/epoch - 2ms/step\n",
      "Epoch 19/100\n",
      "2/2 - 0s - loss: 16.3982 - mae: 16.3982 - 3ms/epoch - 2ms/step\n",
      "Epoch 20/100\n",
      "2/2 - 0s - loss: 8.2588 - mae: 8.2588 - 4ms/epoch - 2ms/step\n",
      "Epoch 21/100\n",
      "2/2 - 0s - loss: 14.4623 - mae: 14.4623 - 3ms/epoch - 2ms/step\n",
      "Epoch 22/100\n",
      "2/2 - 0s - loss: 12.8794 - mae: 12.8794 - 3ms/epoch - 1ms/step\n",
      "Epoch 23/100\n",
      "2/2 - 0s - loss: 15.5162 - mae: 15.5162 - 3ms/epoch - 2ms/step\n",
      "Epoch 24/100\n",
      "2/2 - 0s - loss: 15.3074 - mae: 15.3074 - 3ms/epoch - 2ms/step\n",
      "Epoch 25/100\n",
      "2/2 - 0s - loss: 14.3713 - mae: 14.3713 - 3ms/epoch - 2ms/step\n",
      "Epoch 26/100\n",
      "2/2 - 0s - loss: 19.3981 - mae: 19.3981 - 4ms/epoch - 2ms/step\n",
      "Epoch 27/100\n",
      "2/2 - 0s - loss: 11.4374 - mae: 11.4374 - 5ms/epoch - 2ms/step\n",
      "Epoch 28/100\n",
      "2/2 - 0s - loss: 28.9242 - mae: 28.9242 - 4ms/epoch - 2ms/step\n",
      "Epoch 29/100\n",
      "2/2 - 0s - loss: 9.2605 - mae: 9.2605 - 4ms/epoch - 2ms/step\n",
      "Epoch 30/100\n",
      "2/2 - 0s - loss: 29.6900 - mae: 29.6900 - 3ms/epoch - 1ms/step\n",
      "Epoch 31/100\n",
      "2/2 - 0s - loss: 53.8545 - mae: 53.8545 - 3ms/epoch - 1ms/step\n",
      "Epoch 32/100\n",
      "2/2 - 0s - loss: 9.5460 - mae: 9.5460 - 4ms/epoch - 2ms/step\n",
      "Epoch 33/100\n",
      "2/2 - 0s - loss: 12.1311 - mae: 12.1311 - 3ms/epoch - 2ms/step\n",
      "Epoch 34/100\n",
      "2/2 - 0s - loss: 23.7154 - mae: 23.7154 - 2ms/epoch - 1000us/step\n",
      "Epoch 35/100\n",
      "2/2 - 0s - loss: 12.6586 - mae: 12.6586 - 2ms/epoch - 1ms/step\n",
      "Epoch 36/100\n",
      "2/2 - 0s - loss: 21.6056 - mae: 21.6056 - 3ms/epoch - 2ms/step\n",
      "Epoch 37/100\n",
      "2/2 - 0s - loss: 11.3266 - mae: 11.3266 - 3ms/epoch - 1ms/step\n",
      "Epoch 38/100\n",
      "2/2 - 0s - loss: 13.3617 - mae: 13.3617 - 2ms/epoch - 1ms/step\n",
      "Epoch 39/100\n",
      "2/2 - 0s - loss: 10.7455 - mae: 10.7455 - 3ms/epoch - 2ms/step\n",
      "Epoch 40/100\n",
      "2/2 - 0s - loss: 16.1563 - mae: 16.1563 - 3ms/epoch - 2ms/step\n",
      "Epoch 41/100\n",
      "2/2 - 0s - loss: 12.1752 - mae: 12.1752 - 3ms/epoch - 1ms/step\n",
      "Epoch 42/100\n",
      "2/2 - 0s - loss: 10.2103 - mae: 10.2103 - 3ms/epoch - 2ms/step\n",
      "Epoch 43/100\n",
      "2/2 - 0s - loss: 9.8994 - mae: 9.8994 - 3ms/epoch - 2ms/step\n",
      "Epoch 44/100\n",
      "2/2 - 0s - loss: 31.4854 - mae: 31.4854 - 2ms/epoch - 1ms/step\n",
      "Epoch 45/100\n",
      "2/2 - 0s - loss: 12.2600 - mae: 12.2600 - 6ms/epoch - 3ms/step\n",
      "Epoch 46/100\n",
      "2/2 - 0s - loss: 16.9053 - mae: 16.9053 - 3ms/epoch - 2ms/step\n",
      "Epoch 47/100\n",
      "2/2 - 0s - loss: 15.9844 - mae: 15.9844 - 3ms/epoch - 2ms/step\n",
      "Epoch 48/100\n",
      "2/2 - 0s - loss: 8.9154 - mae: 8.9154 - 3ms/epoch - 2ms/step\n",
      "Epoch 49/100\n",
      "2/2 - 0s - loss: 13.4424 - mae: 13.4424 - 3ms/epoch - 1ms/step\n",
      "Epoch 50/100\n",
      "2/2 - 0s - loss: 14.9879 - mae: 14.9879 - 3ms/epoch - 2ms/step\n",
      "Epoch 51/100\n",
      "2/2 - 0s - loss: 13.5592 - mae: 13.5592 - 2ms/epoch - 1000us/step\n",
      "Epoch 52/100\n",
      "2/2 - 0s - loss: 17.9980 - mae: 17.9980 - 3ms/epoch - 1ms/step\n",
      "Epoch 53/100\n",
      "2/2 - 0s - loss: 22.5160 - mae: 22.5160 - 3ms/epoch - 2ms/step\n",
      "Epoch 54/100\n",
      "2/2 - 0s - loss: 27.4266 - mae: 27.4266 - 3ms/epoch - 1ms/step\n",
      "Epoch 55/100\n",
      "2/2 - 0s - loss: 27.1375 - mae: 27.1375 - 2ms/epoch - 1ms/step\n",
      "Epoch 56/100\n",
      "2/2 - 0s - loss: 11.5775 - mae: 11.5775 - 3ms/epoch - 2ms/step\n",
      "Epoch 57/100\n",
      "2/2 - 0s - loss: 13.6727 - mae: 13.6727 - 2ms/epoch - 1ms/step\n",
      "Epoch 58/100\n",
      "2/2 - 0s - loss: 10.1262 - mae: 10.1262 - 3ms/epoch - 2ms/step\n",
      "Epoch 59/100\n",
      "2/2 - 0s - loss: 14.6060 - mae: 14.6060 - 2ms/epoch - 1ms/step\n",
      "Epoch 60/100\n",
      "2/2 - 0s - loss: 10.0667 - mae: 10.0667 - 2ms/epoch - 1ms/step\n",
      "Epoch 61/100\n",
      "2/2 - 0s - loss: 15.1151 - mae: 15.1151 - 2ms/epoch - 1000us/step\n",
      "Epoch 62/100\n",
      "2/2 - 0s - loss: 12.0242 - mae: 12.0242 - 2ms/epoch - 1000us/step\n",
      "Epoch 63/100\n",
      "2/2 - 0s - loss: 10.3471 - mae: 10.3471 - 2ms/epoch - 1000us/step\n",
      "Epoch 64/100\n",
      "2/2 - 0s - loss: 24.0932 - mae: 24.0932 - 3ms/epoch - 2ms/step\n",
      "Epoch 65/100\n",
      "2/2 - 0s - loss: 10.5244 - mae: 10.5244 - 3ms/epoch - 2ms/step\n",
      "Epoch 66/100\n",
      "2/2 - 0s - loss: 21.1092 - mae: 21.1092 - 2ms/epoch - 1000us/step\n",
      "Epoch 67/100\n",
      "2/2 - 0s - loss: 10.5099 - mae: 10.5099 - 3ms/epoch - 2ms/step\n",
      "Epoch 68/100\n",
      "2/2 - 0s - loss: 14.2981 - mae: 14.2981 - 2ms/epoch - 1ms/step\n",
      "Epoch 69/100\n",
      "2/2 - 0s - loss: 10.5873 - mae: 10.5873 - 3ms/epoch - 1ms/step\n",
      "Epoch 70/100\n",
      "2/2 - 0s - loss: 12.6650 - mae: 12.6650 - 3ms/epoch - 2ms/step\n",
      "Epoch 71/100\n",
      "2/2 - 0s - loss: 13.0886 - mae: 13.0886 - 3ms/epoch - 2ms/step\n",
      "Epoch 72/100\n",
      "2/2 - 0s - loss: 19.4950 - mae: 19.4950 - 2ms/epoch - 1000us/step\n",
      "Epoch 73/100\n",
      "2/2 - 0s - loss: 11.1764 - mae: 11.1764 - 2ms/epoch - 1ms/step\n",
      "Epoch 74/100\n",
      "2/2 - 0s - loss: 21.7335 - mae: 21.7335 - 3ms/epoch - 1ms/step\n",
      "Epoch 75/100\n",
      "2/2 - 0s - loss: 7.2307 - mae: 7.2307 - 3ms/epoch - 2ms/step\n",
      "Epoch 76/100\n",
      "2/2 - 0s - loss: 9.4505 - mae: 9.4505 - 3ms/epoch - 2ms/step\n",
      "Epoch 77/100\n",
      "2/2 - 0s - loss: 22.1307 - mae: 22.1307 - 3ms/epoch - 2ms/step\n",
      "Epoch 78/100\n",
      "2/2 - 0s - loss: 17.5466 - mae: 17.5466 - 2ms/epoch - 1000us/step\n",
      "Epoch 79/100\n",
      "2/2 - 0s - loss: 14.7671 - mae: 14.7671 - 3ms/epoch - 2ms/step\n",
      "Epoch 80/100\n",
      "2/2 - 0s - loss: 24.9760 - mae: 24.9760 - 3ms/epoch - 2ms/step\n",
      "Epoch 81/100\n",
      "2/2 - 0s - loss: 10.8477 - mae: 10.8477 - 2ms/epoch - 996us/step\n",
      "Epoch 82/100\n",
      "2/2 - 0s - loss: 12.8088 - mae: 12.8088 - 3ms/epoch - 1ms/step\n",
      "Epoch 83/100\n",
      "2/2 - 0s - loss: 17.6046 - mae: 17.6046 - 2ms/epoch - 1ms/step\n",
      "Epoch 84/100\n",
      "2/2 - 0s - loss: 7.3127 - mae: 7.3127 - 2ms/epoch - 1000us/step\n",
      "Epoch 85/100\n",
      "2/2 - 0s - loss: 15.1094 - mae: 15.1094 - 3ms/epoch - 2ms/step\n",
      "Epoch 86/100\n",
      "2/2 - 0s - loss: 15.4039 - mae: 15.4039 - 3ms/epoch - 1ms/step\n",
      "Epoch 87/100\n",
      "2/2 - 0s - loss: 19.3390 - mae: 19.3390 - 2ms/epoch - 1ms/step\n",
      "Epoch 88/100\n",
      "2/2 - 0s - loss: 29.2266 - mae: 29.2266 - 3ms/epoch - 2ms/step\n",
      "Epoch 89/100\n",
      "2/2 - 0s - loss: 10.1037 - mae: 10.1037 - 3ms/epoch - 2ms/step\n",
      "Epoch 90/100\n",
      "2/2 - 0s - loss: 21.0267 - mae: 21.0267 - 3ms/epoch - 2ms/step\n",
      "Epoch 91/100\n",
      "2/2 - 0s - loss: 10.4672 - mae: 10.4672 - 3ms/epoch - 2ms/step\n",
      "Epoch 92/100\n",
      "2/2 - 0s - loss: 17.9457 - mae: 17.9457 - 3ms/epoch - 2ms/step\n",
      "Epoch 93/100\n",
      "2/2 - 0s - loss: 6.5692 - mae: 6.5692 - 2ms/epoch - 1ms/step\n",
      "Epoch 94/100\n",
      "2/2 - 0s - loss: 11.1191 - mae: 11.1191 - 3ms/epoch - 2ms/step\n",
      "Epoch 95/100\n",
      "2/2 - 0s - loss: 24.3028 - mae: 24.3028 - 2ms/epoch - 999us/step\n",
      "Epoch 96/100\n",
      "2/2 - 0s - loss: 10.7232 - mae: 10.7232 - 3ms/epoch - 2ms/step\n",
      "Epoch 97/100\n",
      "2/2 - 0s - loss: 15.3136 - mae: 15.3136 - 3ms/epoch - 1ms/step\n",
      "Epoch 98/100\n",
      "2/2 - 0s - loss: 8.2445 - mae: 8.2445 - 2ms/epoch - 1ms/step\n",
      "Epoch 99/100\n",
      "2/2 - 0s - loss: 16.4814 - mae: 16.4814 - 3ms/epoch - 1ms/step\n",
      "Epoch 100/100\n",
      "2/2 - 0s - loss: 14.2722 - mae: 14.2722 - 3ms/epoch - 1ms/step\n"
     ]
    },
    {
     "data": {
      "text/plain": [
       "<keras.src.callbacks.History at 0x2a92b2f7f70>"
      ]
     },
     "execution_count": 44,
     "metadata": {},
     "output_type": "execute_result"
    }
   ],
   "source": [
    "# Set random seed\n",
    "tf.random.set_seed(42)\n",
    "\n",
    "# Replicate model_1 and add an extra layer\n",
    "model_2 = tf.keras.Sequential([\n",
    "  tf.keras.layers.Dense(1,input_shape=[1]),\n",
    "  tf.keras.layers.Dense(1,input_shape=[1]) # add a second layer\n",
    "])\n",
    "\n",
    "# Compile the model\n",
    "model_2.compile(loss=tf.keras.losses.mae,\n",
    "                optimizer=tf.keras.optimizers.SGD(),\n",
    "                metrics=['mae'])\n",
    "\n",
    "# Fit the model\n",
    "model_2.fit(X_train, y_train, epochs=100, verbose=2) # set verbose to 0 for less output"
   ]
  },
  {
   "cell_type": "code",
   "execution_count": 45,
   "metadata": {},
   "outputs": [
    {
     "name": "stdout",
     "output_type": "stream",
     "text": [
      "WARNING:tensorflow:5 out of the last 5 calls to <function Model.make_predict_function.<locals>.predict_function at 0x000002A92B2FFE50> triggered tf.function retracing. Tracing is expensive and the excessive number of tracings could be due to (1) creating @tf.function repeatedly in a loop, (2) passing tensors with different shapes, (3) passing Python objects instead of tensors. For (1), please define your @tf.function outside of the loop. For (2), @tf.function has reduce_retracing=True option that can avoid unnecessary retracing. For (3), please refer to https://www.tensorflow.org/guide/function#controlling_retracing and https://www.tensorflow.org/api_docs/python/tf/function for  more details.\n",
      "1/1 [==============================] - 0s 35ms/step\n"
     ]
    },
    {
     "data": {
      "image/png": "[encoded data removed]",
      "text/plain": [
       "<Figure size 1000x700 with 1 Axes>"
      ]
     },
     "metadata": {},
     "output_type": "display_data"
    }
   ],
   "source": [
    "# Make and plot predictions for model_2\n",
    "y_preds_2 = model_2.predict(X_test)\n",
    "plot_predictions(predictions=y_preds_2)"
   ]
  },
  {
   "cell_type": "code",
   "execution_count": 46,
   "metadata": {},
   "outputs": [
    {
     "data": {
      "text/plain": [
       "(10.615918, 120.44487)"
      ]
     },
     "execution_count": 46,
     "metadata": {},
     "output_type": "execute_result"
    }
   ],
   "source": [
    "# Calculate model_2 metrics\n",
    "mae_2 = mae(y_test, y_preds_2.squeeze()).numpy()\n",
    "mse_2 = mse(y_test, y_preds_2.squeeze()).numpy()\n",
    "mae_2, mse_2"
   ]
  },
  {
   "cell_type": "markdown",
   "metadata": {},
   "source": [
    "**Build `model_3`**\n",
    "\n",
    "For our 3rd model, we'll keep everything the same as `model_2` except this time we'll train for longer (500 epochs instead of 100).\n",
    "\n",
    "This will give our model more of a chance to learn the patterns in the data."
   ]
  },
  {
   "cell_type": "code",
   "execution_count": 47,
   "metadata": {},
   "outputs": [
    {
     "data": {
      "text/plain": [
       "<keras.src.callbacks.History at 0x2a92ca7db80>"
      ]
     },
     "execution_count": 47,
     "metadata": {},
     "output_type": "execute_result"
    }
   ],
   "source": [
    "# Set random seed\n",
    "tf.random.set_seed(42)\n",
    "\n",
    "# Replicate model_2\n",
    "model_3 = tf.keras.Sequential([\n",
    "  tf.keras.layers.Dense(1),\n",
    "  tf.keras.layers.Dense(1)\n",
    "])\n",
    "\n",
    "# Compile the model\n",
    "model_3.compile(loss=tf.keras.losses.mae,\n",
    "                optimizer=tf.keras.optimizers.SGD(),\n",
    "                metrics=['mae'])\n",
    "\n",
    "# Fit the model (this time for 500 epochs, not 100)\n",
    "model_3.fit(tf.expand_dims(X_train, axis=-1), y_train, epochs=500, verbose=0) # set verbose to 0 for less output"
   ]
  },
  {
   "cell_type": "code",
   "execution_count": 48,
   "metadata": {},
   "outputs": [
    {
     "name": "stdout",
     "output_type": "stream",
     "text": [
      "WARNING:tensorflow:6 out of the last 6 calls to <function Model.make_predict_function.<locals>.predict_function at 0x000002A92C6CBCA0> triggered tf.function retracing. Tracing is expensive and the excessive number of tracings could be due to (1) creating @tf.function repeatedly in a loop, (2) passing tensors with different shapes, (3) passing Python objects instead of tensors. For (1), please define your @tf.function outside of the loop. For (2), @tf.function has reduce_retracing=True option that can avoid unnecessary retracing. For (3), please refer to https://www.tensorflow.org/guide/function#controlling_retracing and https://www.tensorflow.org/api_docs/python/tf/function for  more details.\n",
      "1/1 [==============================] - 0s 35ms/step\n"
     ]
    },
    {
     "data": {
      "image/png": "[encoded data removed]",
      "text/plain": [
       "<Figure size 1000x700 with 1 Axes>"
      ]
     },
     "metadata": {},
     "output_type": "display_data"
    }
   ],
   "source": [
    "# Make and plot predictions for model_3\n",
    "y_preds_3 = model_3.predict(X_test)\n",
    "plot_predictions(predictions=y_preds_3)"
   ]
  },
  {
   "cell_type": "markdown",
   "metadata": {},
   "source": [
    "Strange, we trained for longer but our model performed worse?\n",
    "\n",
    "As it turns out, our model might've trained too long and has thus resulted in worse results (we'll see ways to prevent training for too long later on)."
   ]
  },
  {
   "cell_type": "code",
   "execution_count": 49,
   "metadata": {},
   "outputs": [
    {
     "data": {
      "text/plain": [
       "(68.10941, 4723.907)"
      ]
     },
     "execution_count": 49,
     "metadata": {},
     "output_type": "execute_result"
    }
   ],
   "source": [
    "# Calculate model_3 metrics\n",
    "mae_3 = mae(y_test, y_preds_3.squeeze()).numpy()\n",
    "mse_3 = mse(y_test, y_preds_3.squeeze()).numpy()\n",
    "mae_3, mse_3"
   ]
  },
  {
   "cell_type": "code",
   "execution_count": null,
   "metadata": {},
   "outputs": [],
   "source": []
  }
 ],
 "metadata": {
  "kernelspec": {
   "display_name": "tf",
   "language": "python",
   "name": "python3"
  },
  "language_info": {
   "codemirror_mode": {
    "name": "ipython",
    "version": 3
   },
   "file_extension": ".py",
   "mimetype": "text/x-python",
   "name": "python",
   "nbconvert_exporter": "python",
   "pygments_lexer": "ipython3",
   "version": "3.9.17"
  }
 },
 "nbformat": 4,
 "nbformat_minor": 2
}
